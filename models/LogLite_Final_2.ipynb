{
  "cells": [
    {
      "cell_type": "markdown",
      "metadata": {
        "id": "8HNITaBYPRLe"
      },
      "source": [
        "# LogLite: A Lightweight Framework for Real-Time Anomaly Detection and Analysis of System Logs\n",
        "\n",
        "This notebook implements a lightweight framework for anomaly detection and analysis of system logs using DistilBERT and SHAP for explainability."
      ]
    },
    {
      "cell_type": "markdown",
      "metadata": {
        "id": "kToi7BNGPRLf"
      },
      "source": [
        "## 1. Install Required Packages"
      ]
    },
    {
      "cell_type": "code",
      "execution_count": null,
      "metadata": {
        "colab": {
          "base_uri": "https://localhost:8080/"
        },
        "id": "ENQ_GHM_PRLf",
        "outputId": "b33088ee-7202-4cc8-c248-b011ddfc1204"
      },
      "outputs": [
        {
          "output_type": "stream",
          "name": "stdout",
          "text": [
            "Requirement already satisfied: transformers in /usr/local/lib/python3.11/dist-packages (4.51.3)\n",
            "Requirement already satisfied: datasets in /usr/local/lib/python3.11/dist-packages (2.14.4)\n",
            "Requirement already satisfied: shap in /usr/local/lib/python3.11/dist-packages (0.47.2)\n",
            "Requirement already satisfied: scikit-learn in /usr/local/lib/python3.11/dist-packages (1.6.1)\n",
            "Requirement already satisfied: matplotlib in /usr/local/lib/python3.11/dist-packages (3.10.0)\n",
            "Requirement already satisfied: wandb in /usr/local/lib/python3.11/dist-packages (0.19.11)\n",
            "Requirement already satisfied: filelock in /usr/local/lib/python3.11/dist-packages (from transformers) (3.18.0)\n",
            "Requirement already satisfied: huggingface-hub<1.0,>=0.30.0 in /usr/local/lib/python3.11/dist-packages (from transformers) (0.31.2)\n",
            "Requirement already satisfied: numpy>=1.17 in /usr/local/lib/python3.11/dist-packages (from transformers) (2.0.2)\n",
            "Requirement already satisfied: packaging>=20.0 in /usr/local/lib/python3.11/dist-packages (from transformers) (24.2)\n",
            "Requirement already satisfied: pyyaml>=5.1 in /usr/local/lib/python3.11/dist-packages (from transformers) (6.0.2)\n",
            "Requirement already satisfied: regex!=2019.12.17 in /usr/local/lib/python3.11/dist-packages (from transformers) (2024.11.6)\n",
            "Requirement already satisfied: requests in /usr/local/lib/python3.11/dist-packages (from transformers) (2.32.3)\n",
            "Requirement already satisfied: tokenizers<0.22,>=0.21 in /usr/local/lib/python3.11/dist-packages (from transformers) (0.21.1)\n",
            "Requirement already satisfied: safetensors>=0.4.3 in /usr/local/lib/python3.11/dist-packages (from transformers) (0.5.3)\n",
            "Requirement already satisfied: tqdm>=4.27 in /usr/local/lib/python3.11/dist-packages (from transformers) (4.67.1)\n",
            "Requirement already satisfied: pyarrow>=8.0.0 in /usr/local/lib/python3.11/dist-packages (from datasets) (18.1.0)\n",
            "Requirement already satisfied: dill<0.3.8,>=0.3.0 in /usr/local/lib/python3.11/dist-packages (from datasets) (0.3.7)\n",
            "Requirement already satisfied: pandas in /usr/local/lib/python3.11/dist-packages (from datasets) (2.2.2)\n",
            "Requirement already satisfied: xxhash in /usr/local/lib/python3.11/dist-packages (from datasets) (3.5.0)\n",
            "Requirement already satisfied: multiprocess in /usr/local/lib/python3.11/dist-packages (from datasets) (0.70.15)\n",
            "Requirement already satisfied: fsspec>=2021.11.1 in /usr/local/lib/python3.11/dist-packages (from fsspec[http]>=2021.11.1->datasets) (2025.3.2)\n",
            "Requirement already satisfied: aiohttp in /usr/local/lib/python3.11/dist-packages (from datasets) (3.11.15)\n",
            "Requirement already satisfied: scipy in /usr/local/lib/python3.11/dist-packages (from shap) (1.15.3)\n",
            "Requirement already satisfied: slicer==0.0.8 in /usr/local/lib/python3.11/dist-packages (from shap) (0.0.8)\n",
            "Requirement already satisfied: numba>=0.54 in /usr/local/lib/python3.11/dist-packages (from shap) (0.60.0)\n",
            "Requirement already satisfied: cloudpickle in /usr/local/lib/python3.11/dist-packages (from shap) (3.1.1)\n",
            "Requirement already satisfied: typing-extensions in /usr/local/lib/python3.11/dist-packages (from shap) (4.13.2)\n",
            "Requirement already satisfied: joblib>=1.2.0 in /usr/local/lib/python3.11/dist-packages (from scikit-learn) (1.5.0)\n",
            "Requirement already satisfied: threadpoolctl>=3.1.0 in /usr/local/lib/python3.11/dist-packages (from scikit-learn) (3.6.0)\n",
            "Requirement already satisfied: contourpy>=1.0.1 in /usr/local/lib/python3.11/dist-packages (from matplotlib) (1.3.2)\n",
            "Requirement already satisfied: cycler>=0.10 in /usr/local/lib/python3.11/dist-packages (from matplotlib) (0.12.1)\n",
            "Requirement already satisfied: fonttools>=4.22.0 in /usr/local/lib/python3.11/dist-packages (from matplotlib) (4.58.0)\n",
            "Requirement already satisfied: kiwisolver>=1.3.1 in /usr/local/lib/python3.11/dist-packages (from matplotlib) (1.4.8)\n",
            "Requirement already satisfied: pillow>=8 in /usr/local/lib/python3.11/dist-packages (from matplotlib) (11.2.1)\n",
            "Requirement already satisfied: pyparsing>=2.3.1 in /usr/local/lib/python3.11/dist-packages (from matplotlib) (3.2.3)\n",
            "Requirement already satisfied: python-dateutil>=2.7 in /usr/local/lib/python3.11/dist-packages (from matplotlib) (2.9.0.post0)\n",
            "Requirement already satisfied: click!=8.0.0,>=7.1 in /usr/local/lib/python3.11/dist-packages (from wandb) (8.2.0)\n",
            "Requirement already satisfied: docker-pycreds>=0.4.0 in /usr/local/lib/python3.11/dist-packages (from wandb) (0.4.0)\n",
            "Requirement already satisfied: gitpython!=3.1.29,>=1.0.0 in /usr/local/lib/python3.11/dist-packages (from wandb) (3.1.44)\n",
            "Requirement already satisfied: platformdirs in /usr/local/lib/python3.11/dist-packages (from wandb) (4.3.8)\n",
            "Requirement already satisfied: protobuf!=4.21.0,!=5.28.0,<7,>=3.19.0 in /usr/local/lib/python3.11/dist-packages (from wandb) (5.29.4)\n",
            "Requirement already satisfied: psutil>=5.0.0 in /usr/local/lib/python3.11/dist-packages (from wandb) (5.9.5)\n",
            "Requirement already satisfied: pydantic<3 in /usr/local/lib/python3.11/dist-packages (from wandb) (2.11.4)\n",
            "Requirement already satisfied: sentry-sdk>=2.0.0 in /usr/local/lib/python3.11/dist-packages (from wandb) (2.28.0)\n",
            "Requirement already satisfied: setproctitle in /usr/local/lib/python3.11/dist-packages (from wandb) (1.3.6)\n",
            "Requirement already satisfied: setuptools in /usr/local/lib/python3.11/dist-packages (from wandb) (75.2.0)\n",
            "Requirement already satisfied: six>=1.4.0 in /usr/local/lib/python3.11/dist-packages (from docker-pycreds>=0.4.0->wandb) (1.17.0)\n",
            "Requirement already satisfied: aiohappyeyeballs>=2.3.0 in /usr/local/lib/python3.11/dist-packages (from aiohttp->datasets) (2.6.1)\n",
            "Requirement already satisfied: aiosignal>=1.1.2 in /usr/local/lib/python3.11/dist-packages (from aiohttp->datasets) (1.3.2)\n",
            "Requirement already satisfied: attrs>=17.3.0 in /usr/local/lib/python3.11/dist-packages (from aiohttp->datasets) (25.3.0)\n",
            "Requirement already satisfied: frozenlist>=1.1.1 in /usr/local/lib/python3.11/dist-packages (from aiohttp->datasets) (1.6.0)\n",
            "Requirement already satisfied: multidict<7.0,>=4.5 in /usr/local/lib/python3.11/dist-packages (from aiohttp->datasets) (6.4.3)\n",
            "Requirement already satisfied: propcache>=0.2.0 in /usr/local/lib/python3.11/dist-packages (from aiohttp->datasets) (0.3.1)\n",
            "Requirement already satisfied: yarl<2.0,>=1.17.0 in /usr/local/lib/python3.11/dist-packages (from aiohttp->datasets) (1.20.0)\n",
            "Requirement already satisfied: gitdb<5,>=4.0.1 in /usr/local/lib/python3.11/dist-packages (from gitpython!=3.1.29,>=1.0.0->wandb) (4.0.12)\n",
            "Requirement already satisfied: llvmlite<0.44,>=0.43.0dev0 in /usr/local/lib/python3.11/dist-packages (from numba>=0.54->shap) (0.43.0)\n",
            "Requirement already satisfied: annotated-types>=0.6.0 in /usr/local/lib/python3.11/dist-packages (from pydantic<3->wandb) (0.7.0)\n",
            "Requirement already satisfied: pydantic-core==2.33.2 in /usr/local/lib/python3.11/dist-packages (from pydantic<3->wandb) (2.33.2)\n",
            "Requirement already satisfied: typing-inspection>=0.4.0 in /usr/local/lib/python3.11/dist-packages (from pydantic<3->wandb) (0.4.0)\n",
            "Requirement already satisfied: charset-normalizer<4,>=2 in /usr/local/lib/python3.11/dist-packages (from requests->transformers) (3.4.2)\n",
            "Requirement already satisfied: idna<4,>=2.5 in /usr/local/lib/python3.11/dist-packages (from requests->transformers) (3.10)\n",
            "Requirement already satisfied: urllib3<3,>=1.21.1 in /usr/local/lib/python3.11/dist-packages (from requests->transformers) (2.4.0)\n",
            "Requirement already satisfied: certifi>=2017.4.17 in /usr/local/lib/python3.11/dist-packages (from requests->transformers) (2025.4.26)\n",
            "Requirement already satisfied: pytz>=2020.1 in /usr/local/lib/python3.11/dist-packages (from pandas->datasets) (2025.2)\n",
            "Requirement already satisfied: tzdata>=2022.7 in /usr/local/lib/python3.11/dist-packages (from pandas->datasets) (2025.2)\n",
            "Requirement already satisfied: smmap<6,>=3.0.1 in /usr/local/lib/python3.11/dist-packages (from gitdb<5,>=4.0.1->gitpython!=3.1.29,>=1.0.0->wandb) (5.0.2)\n"
          ]
        }
      ],
      "source": [
        "!pip install transformers datasets shap scikit-learn matplotlib wandb"
      ]
    },
    {
      "cell_type": "markdown",
      "metadata": {
        "id": "vFwIHw91PRLg"
      },
      "source": [
        "## 2. Import Necessary Libraries"
      ]
    },
    {
      "cell_type": "code",
      "execution_count": null,
      "metadata": {
        "id": "Eosehp0UPRLh"
      },
      "outputs": [],
      "source": [
        "import pandas as pd\n",
        "import numpy as np\n",
        "import matplotlib.pyplot as plt\n",
        "import re\n",
        "import torch\n",
        "import random\n",
        "from torch.nn import CrossEntropyLoss\n",
        "from torch.utils.data import Dataset, DataLoader\n",
        "from sklearn.model_selection import train_test_split\n",
        "from sklearn.metrics import accuracy_score, precision_recall_fscore_support, confusion_matrix, classification_report\n",
        "from transformers import DistilBertTokenizerFast, DistilBertForSequenceClassification, DistilBertModel\n",
        "from transformers import Trainer, TrainingArguments, EarlyStoppingCallback\n",
        "import shap\n",
        "import wandb\n",
        "from collections import Counter\n",
        "import seaborn as sns\n",
        "\n",
        "# Set random seeds for reproducibility\n",
        "SEED = 42\n",
        "random.seed(SEED)\n",
        "np.random.seed(SEED)\n",
        "torch.manual_seed(SEED)\n",
        "if torch.cuda.is_available():\n",
        "    torch.cuda.manual_seed_all(SEED)"
      ]
    },
    {
      "cell_type": "code",
      "source": [
        "from google.colab import drive\n",
        "drive.mount('/content/drive')"
      ],
      "metadata": {
        "id": "j3EW9HWyxFzj"
      },
      "execution_count": null,
      "outputs": []
    },
    {
      "cell_type": "markdown",
      "metadata": {
        "id": "eoMU18j3PRLh"
      },
      "source": [
        "## 3. Initialize WandB (Optional)\n",
        "\n",
        "You can comment this out if you don't want to use Weights & Biases."
      ]
    },
    {
      "cell_type": "code",
      "execution_count": null,
      "metadata": {
        "colab": {
          "base_uri": "https://localhost:8080/",
          "height": 1000
        },
        "id": "UquJCEsQPRLh",
        "outputId": "f0e472ab-4337-461b-a2dd-0e50de690bdb"
      },
      "outputs": [
        {
          "output_type": "stream",
          "name": "stderr",
          "text": [
            "\u001b[34m\u001b[1mwandb\u001b[0m: \u001b[33mWARNING\u001b[0m Calling wandb.login() after wandb.init() has no effect.\n"
          ]
        },
        {
          "output_type": "display_data",
          "data": {
            "text/plain": [
              "<IPython.core.display.HTML object>"
            ],
            "text/html": [
              "Finishing previous runs because reinit is set to 'default'."
            ]
          },
          "metadata": {}
        },
        {
          "output_type": "display_data",
          "data": {
            "text/plain": [
              "<IPython.core.display.HTML object>"
            ],
            "text/html": []
          },
          "metadata": {}
        },
        {
          "output_type": "display_data",
          "data": {
            "text/plain": [
              "<IPython.core.display.HTML object>"
            ],
            "text/html": [
              "<br>    <style><br>        .wandb-row {<br>            display: flex;<br>            flex-direction: row;<br>            flex-wrap: wrap;<br>            justify-content: flex-start;<br>            width: 100%;<br>        }<br>        .wandb-col {<br>            display: flex;<br>            flex-direction: column;<br>            flex-basis: 100%;<br>            flex: 1;<br>            padding: 10px;<br>        }<br>    </style><br><div class=\"wandb-row\"><div class=\"wandb-col\"><h3>Run history:</h3><br/><table class=\"wandb\"><tr><td>eval/accuracy</td><td>█████████████▁▁▁▁▁▁▁▁▁██████</td></tr><tr><td>eval/f1</td><td>█████▇███████▁▁▁▁▁▁▁▁▁▇█████</td></tr><tr><td>eval/loss</td><td>▅▃▂▂▂▅▄▃▂▂▁▁▁█████▇▇▇▇▆▄▃▂▁▁</td></tr><tr><td>eval/precision</td><td>█████▇███████▁▁▁▁▁▁▁▁▁▇█████</td></tr><tr><td>eval/recall</td><td>█████████████▁▁▁▁▁▁▁▁▁██████</td></tr><tr><td>eval/runtime</td><td>▄▂▃▁▂▆▃▃▁▁▁▂▁▄▃▃▂█▃▃▃▁▂▁▃▂▃▂</td></tr><tr><td>eval/samples_per_second</td><td>▄▆▅█▇▂▆▆███▇▇▅▆▆▇▁▆▆▅█▇█▆▇▅▇</td></tr><tr><td>eval/steps_per_second</td><td>▄▆▅█▇▂▆▆███▇▇▅▆▆▇▁▆▆▅█▇█▆▇▅▇</td></tr><tr><td>train/epoch</td><td>▁▂▂▂▃▅▅▁▁▂▃▄▄▅▅██▁▂▂▃▃▁▁▂▃▄▄▅▆▆▁▂▂▂▃▄▄▅▆</td></tr><tr><td>train/global_step</td><td>▁▁▂▄▅▁▁▂▂▃▄▅▅▆▇▇██▁▂▃▃▁▂▂▃▃▄▄▄▆▁▁▂▂▃▄▅▅▆</td></tr><tr><td>train/grad_norm</td><td>▃▄▄▄▁▃▆▄▆▅▅▁▄█▃▁▄▃▇▃▄▄▄▄▅▅▅▄▅▆▅█▃▅▅▅▂▄▆▁</td></tr><tr><td>train/learning_rate</td><td>▇▆▅▄▃▂▁█▇▇▆▆▅▅▄▄▃▃▂█▇▇▆█▇▇▆▆▅▅▄▄█▇▇▆▆▅▅▄</td></tr><tr><td>train/loss</td><td>▇▅▄▃▁▃▂▇▅▄▄▂▃▂▂▂▂▁▁█████████▇█▇▇▇▅▄▃▁▃▂▁</td></tr></table><br/></div><div class=\"wandb-col\"><h3>Run summary:</h3><br/><table class=\"wandb\"><tr><td>eval/accuracy</td><td>0.9825</td></tr><tr><td>eval/f1</td><td>0.97442</td></tr><tr><td>eval/loss</td><td>0.83776</td></tr><tr><td>eval/precision</td><td>0.96717</td></tr><tr><td>eval/recall</td><td>0.9825</td></tr><tr><td>eval/runtime</td><td>0.3558</td></tr><tr><td>eval/samples_per_second</td><td>1124.292</td></tr><tr><td>eval/steps_per_second</td><td>36.539</td></tr><tr><td>total_flos</td><td>238082121962496.0</td></tr><tr><td>train/epoch</td><td>6</td></tr><tr><td>train/global_step</td><td>450</td></tr><tr><td>train/grad_norm</td><td>0.63994</td></tr><tr><td>train/learning_rate</td><td>0.0</td></tr><tr><td>train/loss</td><td>0.7022</td></tr><tr><td>train_loss</td><td>1.14786</td></tr><tr><td>train_runtime</td><td>58.2893</td></tr><tr><td>train_samples_per_second</td><td>205.527</td></tr><tr><td>train_steps_per_second</td><td>12.867</td></tr></table><br/></div></div>"
            ]
          },
          "metadata": {}
        },
        {
          "output_type": "display_data",
          "data": {
            "text/plain": [
              "<IPython.core.display.HTML object>"
            ],
            "text/html": [
              " View run <strong style=\"color:#cdcd00\">apricot-dragon-1</strong> at: <a href='https://wandb.ai/oxcomrade-noakhali-science-and-technology-university/LogLite-Final/runs/2y5nxqxt' target=\"_blank\">https://wandb.ai/oxcomrade-noakhali-science-and-technology-university/LogLite-Final/runs/2y5nxqxt</a><br> View project at: <a href='https://wandb.ai/oxcomrade-noakhali-science-and-technology-university/LogLite-Final' target=\"_blank\">https://wandb.ai/oxcomrade-noakhali-science-and-technology-university/LogLite-Final</a><br>Synced 5 W&B file(s), 0 media file(s), 0 artifact file(s) and 0 other file(s)"
            ]
          },
          "metadata": {}
        },
        {
          "output_type": "display_data",
          "data": {
            "text/plain": [
              "<IPython.core.display.HTML object>"
            ],
            "text/html": [
              "Find logs at: <code>./wandb/run-20250516_084421-2y5nxqxt/logs</code>"
            ]
          },
          "metadata": {}
        },
        {
          "output_type": "display_data",
          "data": {
            "text/plain": [
              "<IPython.core.display.HTML object>"
            ],
            "text/html": [
              "Tracking run with wandb version 0.19.11"
            ]
          },
          "metadata": {}
        },
        {
          "output_type": "display_data",
          "data": {
            "text/plain": [
              "<IPython.core.display.HTML object>"
            ],
            "text/html": [
              "Run data is saved locally in <code>/content/wandb/run-20250516_102450-8aqvuux0</code>"
            ]
          },
          "metadata": {}
        },
        {
          "output_type": "display_data",
          "data": {
            "text/plain": [
              "<IPython.core.display.HTML object>"
            ],
            "text/html": [
              "Syncing run <strong><a href='https://wandb.ai/oxcomrade-noakhali-science-and-technology-university/LogLite-Final/runs/8aqvuux0' target=\"_blank\">toasty-bee-2</a></strong> to <a href='https://wandb.ai/oxcomrade-noakhali-science-and-technology-university/LogLite-Final' target=\"_blank\">Weights & Biases</a> (<a href='https://wandb.me/developer-guide' target=\"_blank\">docs</a>)<br>"
            ]
          },
          "metadata": {}
        },
        {
          "output_type": "display_data",
          "data": {
            "text/plain": [
              "<IPython.core.display.HTML object>"
            ],
            "text/html": [
              " View project at <a href='https://wandb.ai/oxcomrade-noakhali-science-and-technology-university/LogLite-Final' target=\"_blank\">https://wandb.ai/oxcomrade-noakhali-science-and-technology-university/LogLite-Final</a>"
            ]
          },
          "metadata": {}
        },
        {
          "output_type": "display_data",
          "data": {
            "text/plain": [
              "<IPython.core.display.HTML object>"
            ],
            "text/html": [
              " View run at <a href='https://wandb.ai/oxcomrade-noakhali-science-and-technology-university/LogLite-Final/runs/8aqvuux0' target=\"_blank\">https://wandb.ai/oxcomrade-noakhali-science-and-technology-university/LogLite-Final/runs/8aqvuux0</a>"
            ]
          },
          "metadata": {}
        },
        {
          "output_type": "execute_result",
          "data": {
            "text/html": [
              "<button onClick=\"this.nextSibling.style.display='block';this.style.display='none';\">Display W&B run</button><iframe src='https://wandb.ai/oxcomrade-noakhali-science-and-technology-university/LogLite-Final/runs/8aqvuux0?jupyter=true' style='border:none;width:100%;height:420px;display:none;'></iframe>"
            ],
            "text/plain": [
              "<wandb.sdk.wandb_run.Run at 0x7f10c215df50>"
            ]
          },
          "metadata": {},
          "execution_count": 56
        }
      ],
      "source": [
        "# Initialize WandB\n",
        "WANDB_API_KEY = \"5679e580c87ce0c7b8868493ca648dcfa350ea84\"\n",
        "wandb.login(key=WANDB_API_KEY)\n",
        "\n",
        "# Initialize Wandb run\n",
        "wandb.init(project=\"LogLite-Final\", entity=\"oxcomrade-noakhali-science-and-technology-university\")"
      ]
    },
    {
      "cell_type": "markdown",
      "metadata": {
        "id": "XrpWf3CYPRLh"
      },
      "source": [
        "## 4. Data Loading and Preprocessing Functions"
      ]
    },
    {
      "cell_type": "code",
      "execution_count": null,
      "metadata": {
        "id": "TsGGuKtkPRLi"
      },
      "outputs": [],
      "source": [
        "# Function to parse log lines\n",
        "def parse_log(line):\n",
        "    # Extract timestamp, node, and message parts\n",
        "    try:\n",
        "        parts = line.strip().split()\n",
        "        timestamp = parts[0]\n",
        "        node = parts[1]\n",
        "        message = ' '.join(parts[2:])\n",
        "\n",
        "        # Extract label\n",
        "        if '-' in message:\n",
        "            label = '-'  # Normal log\n",
        "        else:\n",
        "            # Try to extract the label (anomaly type)\n",
        "            label_match = re.search(r'(APPREAD|KERNDTLB|KERNSTOR|KERNRTSP|KERNTERM|APPSEV|KERNMNTF|APPTO|APPRES|APPOUT|KERNREC)', message)\n",
        "            if label_match:\n",
        "                label = label_match.group(1)\n",
        "            else:\n",
        "                label = 'UNKNOWN'\n",
        "\n",
        "        return {\n",
        "            'timestamp': timestamp,\n",
        "            'node': node,\n",
        "            'message': message,\n",
        "            'label': label\n",
        "        }\n",
        "    except Exception as e:\n",
        "        print(f\"Error parsing line: {line}\")\n",
        "        print(f\"Exception: {e}\")\n",
        "        return None\n",
        "\n",
        "# Load and parse the data\n",
        "def load_data(file_path, max_lines=None):\n",
        "    logs = []\n",
        "    with open(file_path, 'r', encoding='utf-8', errors='ignore') as f:\n",
        "        for i, line in enumerate(f):\n",
        "            if max_lines and i >= max_lines:\n",
        "                break\n",
        "\n",
        "            parsed = parse_log(line)\n",
        "            if parsed:\n",
        "                logs.append(parsed)\n",
        "\n",
        "    return pd.DataFrame(logs)"
      ]
    },
    {
      "cell_type": "markdown",
      "metadata": {
        "id": "DVHdnbuCPRLi"
      },
      "source": [
        "## 5. Load and Prepare Dataset\n",
        "\n",
        "Note: You need to upload your BGL dataset to Colab first. Use the file browser on the left sidebar to upload your dataset."
      ]
    },
    {
      "cell_type": "code",
      "execution_count": null,
      "metadata": {
        "colab": {
          "base_uri": "https://localhost:8080/",
          "height": 73
        },
        "id": "wpMmFnAxPRLi",
        "outputId": "52fb8e3f-5e60-4698-800d-c7825efb9797"
      },
      "outputs": [
        {
          "output_type": "display_data",
          "data": {
            "text/plain": [
              "<IPython.core.display.HTML object>"
            ],
            "text/html": [
              "\n",
              "     <input type=\"file\" id=\"files-49189cab-08a0-45ab-a025-45047c6d37ba\" name=\"files[]\" multiple disabled\n",
              "        style=\"border:none\" />\n",
              "     <output id=\"result-49189cab-08a0-45ab-a025-45047c6d37ba\">\n",
              "      Upload widget is only available when the cell has been executed in the\n",
              "      current browser session. Please rerun this cell to enable.\n",
              "      </output>\n",
              "      <script>// Copyright 2017 Google LLC\n",
              "//\n",
              "// Licensed under the Apache License, Version 2.0 (the \"License\");\n",
              "// you may not use this file except in compliance with the License.\n",
              "// You may obtain a copy of the License at\n",
              "//\n",
              "//      http://www.apache.org/licenses/LICENSE-2.0\n",
              "//\n",
              "// Unless required by applicable law or agreed to in writing, software\n",
              "// distributed under the License is distributed on an \"AS IS\" BASIS,\n",
              "// WITHOUT WARRANTIES OR CONDITIONS OF ANY KIND, either express or implied.\n",
              "// See the License for the specific language governing permissions and\n",
              "// limitations under the License.\n",
              "\n",
              "/**\n",
              " * @fileoverview Helpers for google.colab Python module.\n",
              " */\n",
              "(function(scope) {\n",
              "function span(text, styleAttributes = {}) {\n",
              "  const element = document.createElement('span');\n",
              "  element.textContent = text;\n",
              "  for (const key of Object.keys(styleAttributes)) {\n",
              "    element.style[key] = styleAttributes[key];\n",
              "  }\n",
              "  return element;\n",
              "}\n",
              "\n",
              "// Max number of bytes which will be uploaded at a time.\n",
              "const MAX_PAYLOAD_SIZE = 100 * 1024;\n",
              "\n",
              "function _uploadFiles(inputId, outputId) {\n",
              "  const steps = uploadFilesStep(inputId, outputId);\n",
              "  const outputElement = document.getElementById(outputId);\n",
              "  // Cache steps on the outputElement to make it available for the next call\n",
              "  // to uploadFilesContinue from Python.\n",
              "  outputElement.steps = steps;\n",
              "\n",
              "  return _uploadFilesContinue(outputId);\n",
              "}\n",
              "\n",
              "// This is roughly an async generator (not supported in the browser yet),\n",
              "// where there are multiple asynchronous steps and the Python side is going\n",
              "// to poll for completion of each step.\n",
              "// This uses a Promise to block the python side on completion of each step,\n",
              "// then passes the result of the previous step as the input to the next step.\n",
              "function _uploadFilesContinue(outputId) {\n",
              "  const outputElement = document.getElementById(outputId);\n",
              "  const steps = outputElement.steps;\n",
              "\n",
              "  const next = steps.next(outputElement.lastPromiseValue);\n",
              "  return Promise.resolve(next.value.promise).then((value) => {\n",
              "    // Cache the last promise value to make it available to the next\n",
              "    // step of the generator.\n",
              "    outputElement.lastPromiseValue = value;\n",
              "    return next.value.response;\n",
              "  });\n",
              "}\n",
              "\n",
              "/**\n",
              " * Generator function which is called between each async step of the upload\n",
              " * process.\n",
              " * @param {string} inputId Element ID of the input file picker element.\n",
              " * @param {string} outputId Element ID of the output display.\n",
              " * @return {!Iterable<!Object>} Iterable of next steps.\n",
              " */\n",
              "function* uploadFilesStep(inputId, outputId) {\n",
              "  const inputElement = document.getElementById(inputId);\n",
              "  inputElement.disabled = false;\n",
              "\n",
              "  const outputElement = document.getElementById(outputId);\n",
              "  outputElement.innerHTML = '';\n",
              "\n",
              "  const pickedPromise = new Promise((resolve) => {\n",
              "    inputElement.addEventListener('change', (e) => {\n",
              "      resolve(e.target.files);\n",
              "    });\n",
              "  });\n",
              "\n",
              "  const cancel = document.createElement('button');\n",
              "  inputElement.parentElement.appendChild(cancel);\n",
              "  cancel.textContent = 'Cancel upload';\n",
              "  const cancelPromise = new Promise((resolve) => {\n",
              "    cancel.onclick = () => {\n",
              "      resolve(null);\n",
              "    };\n",
              "  });\n",
              "\n",
              "  // Wait for the user to pick the files.\n",
              "  const files = yield {\n",
              "    promise: Promise.race([pickedPromise, cancelPromise]),\n",
              "    response: {\n",
              "      action: 'starting',\n",
              "    }\n",
              "  };\n",
              "\n",
              "  cancel.remove();\n",
              "\n",
              "  // Disable the input element since further picks are not allowed.\n",
              "  inputElement.disabled = true;\n",
              "\n",
              "  if (!files) {\n",
              "    return {\n",
              "      response: {\n",
              "        action: 'complete',\n",
              "      }\n",
              "    };\n",
              "  }\n",
              "\n",
              "  for (const file of files) {\n",
              "    const li = document.createElement('li');\n",
              "    li.append(span(file.name, {fontWeight: 'bold'}));\n",
              "    li.append(span(\n",
              "        `(${file.type || 'n/a'}) - ${file.size} bytes, ` +\n",
              "        `last modified: ${\n",
              "            file.lastModifiedDate ? file.lastModifiedDate.toLocaleDateString() :\n",
              "                                    'n/a'} - `));\n",
              "    const percent = span('0% done');\n",
              "    li.appendChild(percent);\n",
              "\n",
              "    outputElement.appendChild(li);\n",
              "\n",
              "    const fileDataPromise = new Promise((resolve) => {\n",
              "      const reader = new FileReader();\n",
              "      reader.onload = (e) => {\n",
              "        resolve(e.target.result);\n",
              "      };\n",
              "      reader.readAsArrayBuffer(file);\n",
              "    });\n",
              "    // Wait for the data to be ready.\n",
              "    let fileData = yield {\n",
              "      promise: fileDataPromise,\n",
              "      response: {\n",
              "        action: 'continue',\n",
              "      }\n",
              "    };\n",
              "\n",
              "    // Use a chunked sending to avoid message size limits. See b/62115660.\n",
              "    let position = 0;\n",
              "    do {\n",
              "      const length = Math.min(fileData.byteLength - position, MAX_PAYLOAD_SIZE);\n",
              "      const chunk = new Uint8Array(fileData, position, length);\n",
              "      position += length;\n",
              "\n",
              "      const base64 = btoa(String.fromCharCode.apply(null, chunk));\n",
              "      yield {\n",
              "        response: {\n",
              "          action: 'append',\n",
              "          file: file.name,\n",
              "          data: base64,\n",
              "        },\n",
              "      };\n",
              "\n",
              "      let percentDone = fileData.byteLength === 0 ?\n",
              "          100 :\n",
              "          Math.round((position / fileData.byteLength) * 100);\n",
              "      percent.textContent = `${percentDone}% done`;\n",
              "\n",
              "    } while (position < fileData.byteLength);\n",
              "  }\n",
              "\n",
              "  // All done.\n",
              "  yield {\n",
              "    response: {\n",
              "      action: 'complete',\n",
              "    }\n",
              "  };\n",
              "}\n",
              "\n",
              "scope.google = scope.google || {};\n",
              "scope.google.colab = scope.google.colab || {};\n",
              "scope.google.colab._files = {\n",
              "  _uploadFiles,\n",
              "  _uploadFilesContinue,\n",
              "};\n",
              "})(self);\n",
              "</script> "
            ]
          },
          "metadata": {}
        },
        {
          "output_type": "stream",
          "name": "stdout",
          "text": [
            "Saving BGL_2k.log_structured.csv to BGL_2k.log_structured (1).csv\n"
          ]
        }
      ],
      "source": [
        "# For Colab: Upload the BGL dataset\n",
        "from google.colab import files\n",
        "uploaded = files.upload()  # Upload your BGL dataset\n",
        "\n",
        "# After uploading, specify the path\n",
        "DATA_PATH = list(uploaded.keys())[0]  # This gets the filename of the uploaded file\n",
        "\n",
        "# Alternatively, if you already know the path, you can set it directly\n",
        "# DATA_PATH = \"BGL.log\"  # Update this path if needed"
      ]
    },
    {
      "cell_type": "code",
      "execution_count": null,
      "metadata": {
        "colab": {
          "base_uri": "https://localhost:8080/"
        },
        "id": "NwLMm8P9PRLi",
        "outputId": "b056aeff-4824-4862-b217-65642454d648"
      },
      "outputs": [
        {
          "output_type": "stream",
          "name": "stdout",
          "text": [
            "Dataset loaded with 2000 entries\n",
            "\n",
            "Columns in the dataset:\n",
            "['LineId', 'Label', 'Timestamp', 'Date', 'Node', 'Time', 'NodeRepeat', 'Type', 'Component', 'Level', 'Content', 'EventId', 'EventTemplate']\n",
            "\n",
            "Sample data:\n",
            "   LineId Label   Timestamp        Date                 Node  \\\n",
            "0       1     -  1117838570  2005.06.03  R02-M1-N0-C:J12-U11   \n",
            "1       2     -  1117838573  2005.06.03  R02-M1-N0-C:J12-U11   \n",
            "2       3     -  1117838976  2005.06.03  R02-M1-N0-C:J12-U11   \n",
            "3       4     -  1117838978  2005.06.03  R02-M1-N0-C:J12-U11   \n",
            "4       5     -  1117842440  2005.06.03  R23-M0-NE-C:J05-U01   \n",
            "\n",
            "                         Time           NodeRepeat Type Component Level  \\\n",
            "0  2005-06-03-15.42.50.675872  R02-M1-N0-C:J12-U11  RAS    KERNEL  INFO   \n",
            "1  2005-06-03-15.42.53.276129  R02-M1-N0-C:J12-U11  RAS    KERNEL  INFO   \n",
            "2  2005-06-03-15.49.36.156884  R02-M1-N0-C:J12-U11  RAS    KERNEL  INFO   \n",
            "3  2005-06-03-15.49.38.026704  R02-M1-N0-C:J12-U11  RAS    KERNEL  INFO   \n",
            "4  2005-06-03-16.47.20.730545  R23-M0-NE-C:J05-U01  RAS    KERNEL  INFO   \n",
            "\n",
            "                                    Content EventId  \\\n",
            "0  instruction cache parity error corrected     E77   \n",
            "1  instruction cache parity error corrected     E77   \n",
            "2  instruction cache parity error corrected     E77   \n",
            "3  instruction cache parity error corrected     E77   \n",
            "4  63543 double-hummer alignment exceptions      E3   \n",
            "\n",
            "                              EventTemplate  \n",
            "0  instruction cache parity error corrected  \n",
            "1  instruction cache parity error corrected  \n",
            "2  instruction cache parity error corrected  \n",
            "3  instruction cache parity error corrected  \n",
            "4    <*> double-hummer alignment exceptions  \n",
            "\n",
            "Label distribution:\n",
            "Label\n",
            "-           1857\n",
            "KERNDTLB      60\n",
            "KERNSTOR      30\n",
            "APPSEV        17\n",
            "KERNMNTF      11\n",
            "KERNTERM       7\n",
            "KERNREC        5\n",
            "APPRES         4\n",
            "APPREAD        3\n",
            "APPTO          2\n",
            "KERNRTSP       2\n",
            "APPCHILD       1\n",
            "APPOUT         1\n",
            "Name: count, dtype: int64\n"
          ]
        }
      ],
      "source": [
        "# Set the path to the uploaded CSV file\n",
        "DATA_PATH = \"BGL_2k.log_structured.csv\"\n",
        "\n",
        "# Load the CSV file directly using pandas\n",
        "df = pd.read_csv(DATA_PATH)\n",
        "\n",
        "# Display information about the loaded data\n",
        "print(f\"Dataset loaded with {len(df)} entries\")\n",
        "print(\"\\nColumns in the dataset:\")\n",
        "print(df.columns.tolist())\n",
        "\n",
        "# Check what column contains the labels\n",
        "# The label column might be named \"Label\", \"EventTemplate\", \"EventType\", etc.\n",
        "print(\"\\nSample data:\")\n",
        "print(df.head())\n",
        "\n",
        "# Identify the label column - check the CSV structure\n",
        "# If there's a column that contains label information, use it\n",
        "# For example, it might be called \"Label\" or \"EventType\"\n",
        "# Let's assume it's called \"Label\" - adjust as needed based on your CSV structure\n",
        "if \"Label\" in df.columns:\n",
        "    print(\"\\nLabel distribution:\")\n",
        "    print(df[\"Label\"].value_counts())\n",
        "    # Use \"Label\" as your label column\n",
        "    label_column = \"Label\"\n",
        "elif \"EventType\" in df.columns:\n",
        "    print(\"\\nEvent Type distribution:\")\n",
        "    print(df[\"EventType\"].value_counts())\n",
        "    # Use \"EventType\" as your label column\n",
        "    label_column = \"EventType\"\n",
        "else:\n",
        "    # List first few columns to help identify the right one\n",
        "    print(\"\\nCouldn't find standard label column. Here are the first 5 columns:\")\n",
        "    for col in df.columns[:5]:\n",
        "        print(f\"\\nUnique values in {col}:\")\n",
        "        print(df[col].value_counts().head())\n",
        "\n",
        "    # You'll need to manually set the label column\n",
        "    label_column = \"YourLabelColumnName\"  # Change this based on inspection\n",
        "\n",
        "# After identifying the correct label column, use it instead of the hardcoded 'label'\n",
        "# For example, when creating binary labels:\n",
        "# df['binary_label'] = df[label_column].apply(lambda x: 0 if x == '-' else 1)"
      ]
    },
    {
      "cell_type": "markdown",
      "metadata": {
        "id": "b280N1yCPRLi"
      },
      "source": [
        "## 6. Create Labels and Data Splits"
      ]
    },
    {
      "cell_type": "code",
      "execution_count": null,
      "metadata": {
        "colab": {
          "base_uri": "https://localhost:8080/"
        },
        "id": "gqQTY6MIPRLi",
        "outputId": "c9d328a2-ddfc-474f-9592-decbf3f9c89e"
      },
      "outputs": [
        {
          "output_type": "stream",
          "name": "stdout",
          "text": [
            "\n",
            "Label mapping:\n",
            "- -> 0\n",
            "APPREAD -> 1\n",
            "KERNDTLB -> 2\n",
            "KERNSTOR -> 3\n",
            "APPCHILD -> 4\n",
            "KERNRTSP -> 5\n",
            "KERNTERM -> 6\n",
            "APPSEV -> 7\n",
            "KERNMNTF -> 8\n",
            "KERNREC -> 9\n",
            "APPTO -> 10\n",
            "APPRES -> 11\n",
            "APPOUT -> 12\n"
          ]
        }
      ],
      "source": [
        "# Create binary labels (normal vs anomaly)\n",
        "df['binary_label'] = df['Label'].apply(lambda x: 0 if x == '-' else 1)\n",
        "\n",
        "# Create a label mapper for multi-class classification\n",
        "unique_labels = df['Label'].unique()\n",
        "label_map = {label: idx for idx, label in enumerate(unique_labels)}\n",
        "df['label_id'] = df['Label'].map(label_map)\n",
        "\n",
        "print(\"\\nLabel mapping:\")\n",
        "for label, idx in label_map.items():\n",
        "    print(f\"{label} -> {idx}\")"
      ]
    },
    {
      "cell_type": "code",
      "execution_count": null,
      "metadata": {
        "colab": {
          "base_uri": "https://localhost:8080/"
        },
        "id": "PeXdavJLPRLi",
        "outputId": "f9cc5c7e-0cff-46f4-9b31-6494a929cd60"
      },
      "outputs": [
        {
          "output_type": "stream",
          "name": "stdout",
          "text": [
            "Label counts:\n",
            "label_id\n",
            "0     1857\n",
            "2       60\n",
            "3       30\n",
            "7       17\n",
            "8       11\n",
            "6        7\n",
            "9        5\n",
            "11       4\n",
            "1        3\n",
            "10       2\n",
            "5        2\n",
            "4        1\n",
            "12       1\n",
            "Name: count, dtype: int64\n",
            "Number of valid labels (with ≥ 2 samples): 11\n",
            "Original dataset size: 2000\n",
            "Filtered dataset size: 1998\n",
            "\n",
            "Training set: 1198 samples\n",
            "Validation set: 400 samples\n",
            "Test set: 400 samples\n",
            "\n",
            "Class distribution in training set:\n",
            "label_id\n",
            "0     1113\n",
            "1        2\n",
            "2       36\n",
            "3       18\n",
            "5        2\n",
            "6        4\n",
            "7       10\n",
            "8        7\n",
            "9        3\n",
            "10       1\n",
            "11       2\n",
            "Name: count, dtype: int64\n",
            "\n",
            "Class distribution in validation set:\n",
            "label_id\n",
            "0     372\n",
            "2      12\n",
            "3       6\n",
            "6       2\n",
            "7       3\n",
            "8       2\n",
            "9       1\n",
            "10      1\n",
            "11      1\n",
            "Name: count, dtype: int64\n",
            "\n",
            "Class distribution in test set:\n",
            "label_id\n",
            "0     372\n",
            "1       1\n",
            "2      12\n",
            "3       6\n",
            "6       1\n",
            "7       4\n",
            "8       2\n",
            "9       1\n",
            "11      1\n",
            "Name: count, dtype: int64\n"
          ]
        }
      ],
      "source": [
        "# Find classes with more than 1 sample\n",
        "label_counts = df['label_id'].value_counts()\n",
        "print(f\"Label counts:\\n{label_counts}\")\n",
        "\n",
        "valid_labels = label_counts[label_counts >= 2].index\n",
        "print(f\"Number of valid labels (with ≥ 2 samples): {len(valid_labels)}\")\n",
        "\n",
        "# Filter dataset to include only classes with sufficient samples\n",
        "filtered_df = df[df['label_id'].isin(valid_labels)]\n",
        "print(f\"Original dataset size: {len(df)}\")\n",
        "print(f\"Filtered dataset size: {len(filtered_df)}\")\n",
        "\n",
        "if len(filtered_df) == 0:\n",
        "    print(\"WARNING: Filtered dataset is empty! All classes have only 1 sample.\")\n",
        "    # Fall back to option 1 (no stratification)\n",
        "    X_train_val, X_test, y_train_val, y_test = train_test_split(\n",
        "        df['Content'],\n",
        "        df['label_id'],\n",
        "        test_size=0.2,\n",
        "        random_state=SEED\n",
        "    )\n",
        "else:\n",
        "    # Now use stratification on the filtered dataset\n",
        "    X_train_val, X_test, y_train_val, y_test = train_test_split(\n",
        "        filtered_df['Content'],\n",
        "        filtered_df['label_id'],\n",
        "        test_size=0.2,\n",
        "        random_state=SEED,\n",
        "        stratify=filtered_df['label_id']\n",
        "    )\n",
        "\n",
        "# Further split with stratification\n",
        "X_train, X_val, y_train, y_val = train_test_split(\n",
        "    X_train_val,\n",
        "    y_train_val,\n",
        "    test_size=0.25,\n",
        "    random_state=SEED,\n",
        "    stratify=y_train_val\n",
        ")\n",
        "\n",
        "# Make sure to include these print statements\n",
        "print(f\"\\nTraining set: {len(X_train)} samples\")\n",
        "print(f\"Validation set: {len(X_val)} samples\")\n",
        "print(f\"Test set: {len(X_test)} samples\")\n",
        "\n",
        "# Check class distribution\n",
        "train_counts = pd.Series(y_train).value_counts().sort_index()\n",
        "val_counts = pd.Series(y_val).value_counts().sort_index()\n",
        "test_counts = pd.Series(y_test).value_counts().sort_index()\n",
        "\n",
        "print(\"\\nClass distribution in training set:\")\n",
        "print(train_counts)\n",
        "print(\"\\nClass distribution in validation set:\")\n",
        "print(val_counts)\n",
        "print(\"\\nClass distribution in test set:\")\n",
        "print(test_counts)"
      ]
    },
    {
      "cell_type": "markdown",
      "metadata": {
        "id": "61nlsbEePRLj"
      },
      "source": [
        "## 7. Tokenization and Dataset Creation"
      ]
    },
    {
      "cell_type": "code",
      "execution_count": null,
      "metadata": {
        "id": "_Zr0dNzaPRLj"
      },
      "outputs": [],
      "source": [
        "# Initialize tokenizer\n",
        "tokenizer = DistilBertTokenizerFast.from_pretrained('distilbert-base-uncased')\n",
        "\n",
        "# Define a max sequence length for balanced efficiency and information\n",
        "MAX_LENGTH = 128\n",
        "\n",
        "# Tokenize the data\n",
        "def tokenize_function(texts):\n",
        "    return tokenizer(\n",
        "        texts,\n",
        "        padding='max_length',\n",
        "        truncation=True,\n",
        "        max_length=MAX_LENGTH,\n",
        "        return_tensors='pt'\n",
        "    )\n",
        "\n",
        "# Create datasets\n",
        "train_encodings = tokenize_function(X_train.tolist())\n",
        "val_encodings = tokenize_function(X_val.tolist())\n",
        "test_encodings = tokenize_function(X_test.tolist())"
      ]
    },
    {
      "cell_type": "code",
      "execution_count": null,
      "metadata": {
        "id": "DpUMMqAMPRLj"
      },
      "outputs": [],
      "source": [
        "# Convert to PyTorch dataset\n",
        "class LogDataset(Dataset):\n",
        "    def __init__(self, encodings, labels):\n",
        "        self.encodings = encodings\n",
        "        self.labels = labels\n",
        "\n",
        "    def __getitem__(self, idx):\n",
        "        item = {key: val[idx] for key, val in self.encodings.items()}\n",
        "        item['labels'] = torch.tensor(self.labels[idx])\n",
        "        return item\n",
        "\n",
        "    def __len__(self):\n",
        "        return len(self.labels)\n",
        "\n",
        "# Create datasets\n",
        "train_dataset = LogDataset(train_encodings, y_train.tolist())\n",
        "val_dataset = LogDataset(val_encodings, y_val.tolist())\n",
        "test_dataset = LogDataset(test_encodings, y_test.tolist())"
      ]
    },
    {
      "cell_type": "markdown",
      "metadata": {
        "id": "XdoltjPYPRLj"
      },
      "source": [
        "## 8. Calculate Class Weights to Handle Imbalanced Data"
      ]
    },
    {
      "cell_type": "code",
      "execution_count": null,
      "metadata": {
        "colab": {
          "base_uri": "https://localhost:8080/"
        },
        "id": "PgPcfjsXPRLj",
        "outputId": "2cdd8bda-8955-48f6-8a6f-05694ea14d78"
      },
      "outputs": [
        {
          "output_type": "stream",
          "name": "stdout",
          "text": [
            "\n",
            "Class weights:\n",
            "tensor([1.0000e+00, 5.5650e+02, 3.0917e+01, 6.1833e+01, 1.0000e+00, 5.5650e+02,\n",
            "        2.7825e+02, 1.1130e+02, 1.5900e+02, 3.7100e+02, 1.1130e+03, 5.5650e+02])\n"
          ]
        }
      ],
      "source": [
        "# Calculate class weights to handle imbalanced data (fixed version)\n",
        "def calculate_class_weights(labels):\n",
        "    counter = Counter(labels)\n",
        "    max_count = max(counter.values())\n",
        "    weights = {label: max_count / count for label, count in counter.items()}\n",
        "\n",
        "    # Get the number of unique classes\n",
        "    num_classes = max(counter.keys()) + 1\n",
        "\n",
        "    # Initialize weights array with 1.0 for all classes\n",
        "    ordered_weights = [1.0] * num_classes\n",
        "\n",
        "    # Assign weights only for classes that exist in the dataset\n",
        "    for label, weight in weights.items():\n",
        "        ordered_weights[label] = weight\n",
        "\n",
        "    return torch.tensor(ordered_weights, dtype=torch.float)\n",
        "\n",
        "# Calculate weights\n",
        "weights = calculate_class_weights(y_train.tolist())\n",
        "print(\"\\nClass weights:\")\n",
        "print(weights)"
      ]
    },
    {
      "cell_type": "markdown",
      "metadata": {
        "id": "SViHAu_ePRLj"
      },
      "source": [
        "## 9. Model Definition (DistilBERT with Class Weights)"
      ]
    },
    {
      "cell_type": "code",
      "execution_count": null,
      "metadata": {
        "id": "d2Vo3HHkPRLj"
      },
      "outputs": [],
      "source": [
        "# Create a DistilBERT model with class weights for handling imbalance\n",
        "class WeightedDistilBert(DistilBertForSequenceClassification):\n",
        "    def __init__(self, config, class_weights=None, dropout_rate=0.3):\n",
        "        super().__init__(config)\n",
        "        self.class_weights = class_weights\n",
        "        self.dropout_rate = dropout_rate\n",
        "\n",
        "        # Modify dropout for regularization\n",
        "        self.dropout = torch.nn.Dropout(self.dropout_rate)\n",
        "\n",
        "        # Initialize loss function\n",
        "        self.loss_fct = CrossEntropyLoss(weight=class_weights if class_weights is not None else None)\n",
        "\n",
        "    def forward(self, input_ids=None, attention_mask=None, labels=None, **kwargs):\n",
        "        outputs = self.distilbert(input_ids, attention_mask=attention_mask)\n",
        "        hidden_state = outputs[0]\n",
        "        pooled_output = hidden_state[:, 0]\n",
        "        pooled_output = self.pre_classifier(pooled_output)\n",
        "        pooled_output = torch.nn.functional.relu(pooled_output)\n",
        "        pooled_output = self.dropout(pooled_output)\n",
        "        logits = self.classifier(pooled_output)\n",
        "\n",
        "        loss = None\n",
        "        if labels is not None:\n",
        "            if self.class_weights is not None:\n",
        "                # Make sure weights are on the same device as logits\n",
        "                class_weights_on_device = self.class_weights.to(logits.device)\n",
        "                loss_fct = CrossEntropyLoss(weight=class_weights_on_device)\n",
        "                loss = loss_fct(logits.view(-1, self.num_labels), labels.view(-1))\n",
        "            else:\n",
        "                loss = self.loss_fct(logits.view(-1, self.num_labels), labels.view(-1))\n",
        "\n",
        "        return (loss, logits) if loss is not None else logits"
      ]
    },
    {
      "cell_type": "markdown",
      "metadata": {
        "id": "uB1oW0ZrPRLj"
      },
      "source": [
        "## 10. Initialize Model and Move to Device"
      ]
    },
    {
      "cell_type": "code",
      "execution_count": null,
      "metadata": {
        "colab": {
          "base_uri": "https://localhost:8080/"
        },
        "id": "huctSmyKPRLj",
        "outputId": "c0ff494e-1cf9-41d3-a21d-2f8add640bac"
      },
      "outputs": [
        {
          "output_type": "stream",
          "name": "stdout",
          "text": [
            "\n",
            "Using device: cuda\n"
          ]
        },
        {
          "output_type": "stream",
          "name": "stderr",
          "text": [
            "Some weights of WeightedDistilBert were not initialized from the model checkpoint at distilbert-base-uncased and are newly initialized: ['classifier.bias', 'classifier.weight', 'loss_fct.weight', 'pre_classifier.bias', 'pre_classifier.weight']\n",
            "You should probably TRAIN this model on a down-stream task to be able to use it for predictions and inference.\n"
          ]
        },
        {
          "output_type": "execute_result",
          "data": {
            "text/plain": [
              "WeightedDistilBert(\n",
              "  (distilbert): DistilBertModel(\n",
              "    (embeddings): Embeddings(\n",
              "      (word_embeddings): Embedding(30522, 768, padding_idx=0)\n",
              "      (position_embeddings): Embedding(512, 768)\n",
              "      (LayerNorm): LayerNorm((768,), eps=1e-12, elementwise_affine=True)\n",
              "      (dropout): Dropout(p=0.1, inplace=False)\n",
              "    )\n",
              "    (transformer): Transformer(\n",
              "      (layer): ModuleList(\n",
              "        (0-5): 6 x TransformerBlock(\n",
              "          (attention): DistilBertSdpaAttention(\n",
              "            (dropout): Dropout(p=0.1, inplace=False)\n",
              "            (q_lin): Linear(in_features=768, out_features=768, bias=True)\n",
              "            (k_lin): Linear(in_features=768, out_features=768, bias=True)\n",
              "            (v_lin): Linear(in_features=768, out_features=768, bias=True)\n",
              "            (out_lin): Linear(in_features=768, out_features=768, bias=True)\n",
              "          )\n",
              "          (sa_layer_norm): LayerNorm((768,), eps=1e-12, elementwise_affine=True)\n",
              "          (ffn): FFN(\n",
              "            (dropout): Dropout(p=0.1, inplace=False)\n",
              "            (lin1): Linear(in_features=768, out_features=3072, bias=True)\n",
              "            (lin2): Linear(in_features=3072, out_features=768, bias=True)\n",
              "            (activation): GELUActivation()\n",
              "          )\n",
              "          (output_layer_norm): LayerNorm((768,), eps=1e-12, elementwise_affine=True)\n",
              "        )\n",
              "      )\n",
              "    )\n",
              "  )\n",
              "  (pre_classifier): Linear(in_features=768, out_features=768, bias=True)\n",
              "  (classifier): Linear(in_features=768, out_features=13, bias=True)\n",
              "  (dropout): Dropout(p=0.8, inplace=False)\n",
              "  (loss_fct): CrossEntropyLoss()\n",
              ")"
            ]
          },
          "metadata": {},
          "execution_count": 71
        }
      ],
      "source": [
        "# Set device\n",
        "device = torch.device('cuda' if torch.cuda.is_available() else 'cpu')\n",
        "print(f\"\\nUsing device: {device}\")\n",
        "\n",
        "# Initialize model\n",
        "num_classes = len(label_map)\n",
        "model = WeightedDistilBert.from_pretrained(\n",
        "    'distilbert-base-uncased',\n",
        "    num_labels=num_classes,\n",
        "    class_weights=weights,\n",
        "    dropout_rate=0.8  # Higher dropout to reduce overfitting\n",
        ")\n",
        "model.to(device)"
      ]
    },
    {
      "cell_type": "markdown",
      "metadata": {
        "id": "IpiB5GZpPRLj"
      },
      "source": [
        "## 11. Define Training Metrics"
      ]
    },
    {
      "cell_type": "code",
      "execution_count": null,
      "metadata": {
        "id": "7QKjJItiPRLk"
      },
      "outputs": [],
      "source": [
        "# Define metrics for evaluation\n",
        "def compute_metrics(eval_pred):\n",
        "    logits, labels = eval_pred\n",
        "    preds = np.argmax(logits, axis=1)\n",
        "    precision, recall, f1, _ = precision_recall_fscore_support(labels, preds, average='weighted')\n",
        "    acc = accuracy_score(labels, preds)\n",
        "    return {\n",
        "        'accuracy': acc,\n",
        "        'f1': f1,\n",
        "        'precision': precision,\n",
        "        'recall': recall\n",
        "    }"
      ]
    },
    {
      "cell_type": "markdown",
      "metadata": {
        "id": "Q2zAVbCOPRLk"
      },
      "source": [
        "## 12. Training Setup"
      ]
    },
    {
      "cell_type": "code",
      "execution_count": null,
      "metadata": {
        "id": "NfDRI8mNPRLk"
      },
      "outputs": [],
      "source": [
        "# Set up training arguments\n",
        "training_args = TrainingArguments(\n",
        "    output_dir='./results',\n",
        "    num_train_epochs=10,  # Reduced from 15 to prevent overfitting\n",
        "    per_device_train_batch_size=16,\n",
        "    per_device_eval_batch_size=32,\n",
        "    eval_strategy='epoch',  # Changed from evaluation_strategy\n",
        "    save_strategy='epoch',\n",
        "    logging_dir='./logs',\n",
        "    logging_steps=50,\n",
        "    load_best_model_at_end=True,\n",
        "    metric_for_best_model='f1',\n",
        "    save_total_limit=2,\n",
        "    learning_rate=1e-5,  # Reduced learning rate\n",
        "    weight_decay=0.01,   # Added weight decay for regularization\n",
        "    seed=SEED,\n",
        "    fp16=torch.cuda.is_available(),\n",
        "    report_to='wandb',\n",
        ")\n",
        "\n",
        "# Create trainer with early stopping\n",
        "trainer = Trainer(\n",
        "    model=model,\n",
        "    args=training_args,\n",
        "    train_dataset=train_dataset,\n",
        "    eval_dataset=val_dataset,\n",
        "    compute_metrics=compute_metrics,\n",
        "    callbacks=[EarlyStoppingCallback(early_stopping_patience=2)]\n",
        ")"
      ]
    },
    {
      "cell_type": "code",
      "source": [
        "# FIX: Remap labels to be consecutive integers starting from 0\n",
        "# 1. Identify unique labels in training data\n",
        "unique_train_labels = sorted(set(y_train.tolist()))\n",
        "print(f\"Unique labels in training data: {unique_train_labels}\")\n",
        "\n",
        "# 2. Create mapping from original labels to consecutive integers\n",
        "new_label_map = {old_label: new_label for new_label, old_label in enumerate(unique_train_labels)}\n",
        "print(f\"New label mapping: {new_label_map}\")\n",
        "\n",
        "# 3. Apply mapping to all datasets\n",
        "y_train_remapped = pd.Series(y_train).map(new_label_map)\n",
        "y_val_remapped = pd.Series(y_val).map(new_label_map)\n",
        "y_test_remapped = pd.Series(y_test).map(lambda x: new_label_map.get(x, 0))\n",
        "\n",
        "# 4. Create new datasets with remapped labels\n",
        "train_dataset = LogDataset(train_encodings, y_train_remapped.tolist())\n",
        "val_dataset = LogDataset(val_encodings, y_val_remapped.tolist())\n",
        "test_dataset = LogDataset(test_encodings, y_test_remapped.tolist())\n",
        "\n",
        "# 5. Recalculate weights for the remapped labels\n",
        "weights = calculate_class_weights(y_train_remapped.tolist())\n",
        "print(f\"Number of classes after remapping: {len(unique_train_labels)}\")\n",
        "print(f\"Updated weights shape: {weights.shape}\")\n",
        "\n",
        "\n",
        "\n",
        "# 6. Create new model with the correct number of classes\n",
        "model = WeightedDistilBert.from_pretrained(\n",
        "    'distilbert-base-uncased',\n",
        "    num_labels=len(unique_train_labels),\n",
        "    class_weights=weights,\n",
        "    dropout_rate=0.8\n",
        ")\n",
        "model.to(device)\n",
        "\n",
        "# 7. Recreate the trainer with the new components\n",
        "trainer = Trainer(\n",
        "    model=model,\n",
        "    args=training_args,\n",
        "    train_dataset=train_dataset,\n",
        "    eval_dataset=val_dataset,\n",
        "    compute_metrics=compute_metrics,\n",
        "    callbacks=[EarlyStoppingCallback(early_stopping_patience=2)]\n",
        ")\n",
        "\n",
        "print(\"✅ Labels remapped and trainer recreated successfully\")"
      ],
      "metadata": {
        "colab": {
          "base_uri": "https://localhost:8080/"
        },
        "id": "1zDX-GVha9W9",
        "outputId": "0f16e6f6-12df-47be-e533-9b24fbbfe0a4"
      },
      "execution_count": null,
      "outputs": [
        {
          "output_type": "stream",
          "name": "stdout",
          "text": [
            "Unique labels in training data: [0, 1, 2, 3, 5, 6, 7, 8, 9, 10, 11]\n",
            "New label mapping: {0: 0, 1: 1, 2: 2, 3: 3, 5: 4, 6: 5, 7: 6, 8: 7, 9: 8, 10: 9, 11: 10}\n",
            "Number of classes after remapping: 11\n",
            "Updated weights shape: torch.Size([11])\n"
          ]
        },
        {
          "output_type": "stream",
          "name": "stderr",
          "text": [
            "Some weights of WeightedDistilBert were not initialized from the model checkpoint at distilbert-base-uncased and are newly initialized: ['classifier.bias', 'classifier.weight', 'loss_fct.weight', 'pre_classifier.bias', 'pre_classifier.weight']\n",
            "You should probably TRAIN this model on a down-stream task to be able to use it for predictions and inference.\n"
          ]
        },
        {
          "output_type": "stream",
          "name": "stdout",
          "text": [
            "✅ Labels remapped and trainer recreated successfully\n"
          ]
        }
      ]
    },
    {
      "cell_type": "markdown",
      "metadata": {
        "id": "m2l4_5UpPRLk"
      },
      "source": [
        "## 13. Train the Model"
      ]
    },
    {
      "cell_type": "code",
      "execution_count": null,
      "metadata": {
        "colab": {
          "base_uri": "https://localhost:8080/",
          "height": 593
        },
        "id": "VisaAck1PRLk",
        "outputId": "fc95469b-cf27-41aa-b0a5-f4d0cc224332"
      },
      "outputs": [
        {
          "output_type": "stream",
          "name": "stdout",
          "text": [
            "\n",
            "Training the model...\n"
          ]
        },
        {
          "output_type": "display_data",
          "data": {
            "text/plain": [
              "<IPython.core.display.HTML object>"
            ],
            "text/html": [
              "\n",
              "    <div>\n",
              "      \n",
              "      <progress value='450' max='750' style='width:300px; height:20px; vertical-align: middle;'></progress>\n",
              "      [450/750 01:05 < 00:44, 6.80 it/s, Epoch 6/10]\n",
              "    </div>\n",
              "    <table border=\"1\" class=\"dataframe\">\n",
              "  <thead>\n",
              " <tr style=\"text-align: left;\">\n",
              "      <th>Epoch</th>\n",
              "      <th>Training Loss</th>\n",
              "      <th>Validation Loss</th>\n",
              "      <th>Accuracy</th>\n",
              "      <th>F1</th>\n",
              "      <th>Precision</th>\n",
              "      <th>Recall</th>\n",
              "    </tr>\n",
              "  </thead>\n",
              "  <tbody>\n",
              "    <tr>\n",
              "      <td>1</td>\n",
              "      <td>2.234500</td>\n",
              "      <td>1.965842</td>\n",
              "      <td>0.930000</td>\n",
              "      <td>0.896269</td>\n",
              "      <td>0.864900</td>\n",
              "      <td>0.930000</td>\n",
              "    </tr>\n",
              "    <tr>\n",
              "      <td>2</td>\n",
              "      <td>1.606200</td>\n",
              "      <td>1.682950</td>\n",
              "      <td>0.960000</td>\n",
              "      <td>0.941666</td>\n",
              "      <td>0.925654</td>\n",
              "      <td>0.960000</td>\n",
              "    </tr>\n",
              "    <tr>\n",
              "      <td>3</td>\n",
              "      <td>1.432300</td>\n",
              "      <td>1.412037</td>\n",
              "      <td>0.955000</td>\n",
              "      <td>0.937660</td>\n",
              "      <td>0.923526</td>\n",
              "      <td>0.955000</td>\n",
              "    </tr>\n",
              "    <tr>\n",
              "      <td>4</td>\n",
              "      <td>1.383500</td>\n",
              "      <td>1.212924</td>\n",
              "      <td>0.977500</td>\n",
              "      <td>0.969602</td>\n",
              "      <td>0.962814</td>\n",
              "      <td>0.977500</td>\n",
              "    </tr>\n",
              "    <tr>\n",
              "      <td>5</td>\n",
              "      <td>0.919500</td>\n",
              "      <td>1.096983</td>\n",
              "      <td>0.977500</td>\n",
              "      <td>0.969602</td>\n",
              "      <td>0.962814</td>\n",
              "      <td>0.977500</td>\n",
              "    </tr>\n",
              "    <tr>\n",
              "      <td>6</td>\n",
              "      <td>0.863100</td>\n",
              "      <td>1.012998</td>\n",
              "      <td>0.977500</td>\n",
              "      <td>0.969602</td>\n",
              "      <td>0.962814</td>\n",
              "      <td>0.977500</td>\n",
              "    </tr>\n",
              "  </tbody>\n",
              "</table><p>"
            ]
          },
          "metadata": {}
        },
        {
          "output_type": "stream",
          "name": "stderr",
          "text": [
            "/usr/local/lib/python3.11/dist-packages/sklearn/metrics/_classification.py:1565: UndefinedMetricWarning: Precision is ill-defined and being set to 0.0 in labels with no predicted samples. Use `zero_division` parameter to control this behavior.\n",
            "  _warn_prf(average, modifier, f\"{metric.capitalize()} is\", len(result))\n",
            "/usr/local/lib/python3.11/dist-packages/sklearn/metrics/_classification.py:1565: UndefinedMetricWarning: Precision is ill-defined and being set to 0.0 in labels with no predicted samples. Use `zero_division` parameter to control this behavior.\n",
            "  _warn_prf(average, modifier, f\"{metric.capitalize()} is\", len(result))\n",
            "/usr/local/lib/python3.11/dist-packages/sklearn/metrics/_classification.py:1565: UndefinedMetricWarning: Precision is ill-defined and being set to 0.0 in labels with no predicted samples. Use `zero_division` parameter to control this behavior.\n",
            "  _warn_prf(average, modifier, f\"{metric.capitalize()} is\", len(result))\n",
            "/usr/local/lib/python3.11/dist-packages/sklearn/metrics/_classification.py:1565: UndefinedMetricWarning: Precision is ill-defined and being set to 0.0 in labels with no predicted samples. Use `zero_division` parameter to control this behavior.\n",
            "  _warn_prf(average, modifier, f\"{metric.capitalize()} is\", len(result))\n",
            "/usr/local/lib/python3.11/dist-packages/sklearn/metrics/_classification.py:1565: UndefinedMetricWarning: Precision is ill-defined and being set to 0.0 in labels with no predicted samples. Use `zero_division` parameter to control this behavior.\n",
            "  _warn_prf(average, modifier, f\"{metric.capitalize()} is\", len(result))\n",
            "/usr/local/lib/python3.11/dist-packages/sklearn/metrics/_classification.py:1565: UndefinedMetricWarning: Precision is ill-defined and being set to 0.0 in labels with no predicted samples. Use `zero_division` parameter to control this behavior.\n",
            "  _warn_prf(average, modifier, f\"{metric.capitalize()} is\", len(result))\n"
          ]
        },
        {
          "output_type": "execute_result",
          "data": {
            "text/plain": [
              "TrainOutput(global_step=450, training_loss=1.3368246205647787, metrics={'train_runtime': 65.941, 'train_samples_per_second': 181.677, 'train_steps_per_second': 11.374, 'total_flos': 238082121962496.0, 'train_loss': 1.3368246205647787, 'epoch': 6.0})"
            ]
          },
          "metadata": {},
          "execution_count": 75
        }
      ],
      "source": [
        "# Train the model\n",
        "print(\"\\nTraining the model...\")\n",
        "trainer.train()"
      ]
    },
    {
      "cell_type": "markdown",
      "metadata": {
        "id": "8eFDnaICPRLk"
      },
      "source": [
        "## 14. Evaluate the Model on Test Set"
      ]
    },
    {
      "cell_type": "code",
      "execution_count": null,
      "metadata": {
        "colab": {
          "base_uri": "https://localhost:8080/",
          "height": 292
        },
        "id": "moK8cmqnPRLk",
        "outputId": "e7c33c87-bd65-49f4-8ecc-7bb1f8b231bc"
      },
      "outputs": [
        {
          "output_type": "stream",
          "name": "stdout",
          "text": [
            "\n",
            "Evaluating the model on test set...\n"
          ]
        },
        {
          "output_type": "display_data",
          "data": {
            "text/plain": [
              "<IPython.core.display.HTML object>"
            ],
            "text/html": []
          },
          "metadata": {}
        },
        {
          "output_type": "stream",
          "name": "stdout",
          "text": [
            "Test results: {'eval_loss': 1.1738966703414917, 'eval_accuracy': 0.985, 'eval_f1': 0.9780267379679144, 'eval_precision': 0.9717730496453902, 'eval_recall': 0.985, 'eval_runtime': 0.382, 'eval_samples_per_second': 1047.092, 'eval_steps_per_second': 34.03, 'epoch': 6.0}\n"
          ]
        },
        {
          "output_type": "stream",
          "name": "stderr",
          "text": [
            "/usr/local/lib/python3.11/dist-packages/sklearn/metrics/_classification.py:1565: UndefinedMetricWarning: Precision is ill-defined and being set to 0.0 in labels with no predicted samples. Use `zero_division` parameter to control this behavior.\n",
            "  _warn_prf(average, modifier, f\"{metric.capitalize()} is\", len(result))\n",
            "/usr/local/lib/python3.11/dist-packages/sklearn/metrics/_classification.py:1565: UndefinedMetricWarning: Precision is ill-defined and being set to 0.0 in labels with no predicted samples. Use `zero_division` parameter to control this behavior.\n",
            "  _warn_prf(average, modifier, f\"{metric.capitalize()} is\", len(result))\n"
          ]
        },
        {
          "output_type": "stream",
          "name": "stdout",
          "text": [
            "\n",
            "Accuracy: 0.9750\n",
            "F1 Score: 0.9700\n",
            "Precision: 0.9651\n",
            "Recall: 0.9750\n"
          ]
        },
        {
          "output_type": "stream",
          "name": "stderr",
          "text": [
            "/usr/local/lib/python3.11/dist-packages/sklearn/metrics/_classification.py:1565: UndefinedMetricWarning: Precision is ill-defined and being set to 0.0 in labels with no predicted samples. Use `zero_division` parameter to control this behavior.\n",
            "  _warn_prf(average, modifier, f\"{metric.capitalize()} is\", len(result))\n"
          ]
        }
      ],
      "source": [
        "# Evaluate the model\n",
        "print(\"\\nEvaluating the model on test set...\")\n",
        "eval_results = trainer.evaluate(test_dataset)\n",
        "print(f\"Test results: {eval_results}\")\n",
        "\n",
        "# Get predictions on test set\n",
        "test_results = trainer.predict(test_dataset)\n",
        "test_preds = np.argmax(test_results.predictions, axis=1)\n",
        "test_actuals = np.array(y_test)\n",
        "\n",
        "# Calculate metrics\n",
        "accuracy = accuracy_score(test_actuals, test_preds)\n",
        "precision, recall, f1, _ = precision_recall_fscore_support(test_actuals, test_preds, average='weighted')\n",
        "\n",
        "print(f\"\\nAccuracy: {accuracy:.4f}\")\n",
        "print(f\"F1 Score: {f1:.4f}\")\n",
        "print(f\"Precision: {precision:.4f}\")\n",
        "print(f\"Recall: {recall:.4f}\")"
      ]
    },
    {
      "cell_type": "markdown",
      "metadata": {
        "id": "cIcU2FwYPRLk"
      },
      "source": [
        "## 15. Print Detailed Classification Report"
      ]
    },
    {
      "cell_type": "code",
      "execution_count": null,
      "metadata": {
        "colab": {
          "base_uri": "https://localhost:8080/"
        },
        "id": "nwsL9eVWPRLk",
        "outputId": "61814c9f-f4d2-4c41-dd00-b42af5f8db93"
      },
      "outputs": [
        {
          "output_type": "stream",
          "name": "stdout",
          "text": [
            "\n",
            "Classification Report:\n",
            "Unique classes in test data: [np.int64(0), np.int64(1), np.int64(2), np.int64(3), np.int64(6), np.int64(7), np.int64(8), np.int64(9), np.int64(11)]\n",
            "              precision    recall  f1-score   support\n",
            "\n",
            "           -     0.9894    1.0000    0.9947       372\n",
            "     APPREAD     0.0000    0.0000    0.0000         1\n",
            "    KERNDTLB     1.0000    1.0000    1.0000        12\n",
            "    KERNSTOR     1.0000    1.0000    1.0000         6\n",
            "    KERNTERM     0.0000    0.0000    0.0000         1\n",
            "      APPSEV     0.0000    0.0000    0.0000         4\n",
            "    KERNMNTF     0.0000    0.0000    0.0000         2\n",
            "     KERNREC     0.0000    0.0000    0.0000         1\n",
            "      APPRES     0.0000    0.0000    0.0000         1\n",
            "\n",
            "    accuracy                         0.9750       400\n",
            "   macro avg     0.3322    0.3333    0.3327       400\n",
            "weighted avg     0.9651    0.9750    0.9700       400\n",
            "\n"
          ]
        },
        {
          "output_type": "stream",
          "name": "stderr",
          "text": [
            "/usr/local/lib/python3.11/dist-packages/sklearn/metrics/_classification.py:1565: UndefinedMetricWarning: Precision is ill-defined and being set to 0.0 in labels with no predicted samples. Use `zero_division` parameter to control this behavior.\n",
            "  _warn_prf(average, modifier, f\"{metric.capitalize()} is\", len(result))\n",
            "/usr/local/lib/python3.11/dist-packages/sklearn/metrics/_classification.py:1565: UndefinedMetricWarning: Precision is ill-defined and being set to 0.0 in labels with no predicted samples. Use `zero_division` parameter to control this behavior.\n",
            "  _warn_prf(average, modifier, f\"{metric.capitalize()} is\", len(result))\n",
            "/usr/local/lib/python3.11/dist-packages/sklearn/metrics/_classification.py:1565: UndefinedMetricWarning: Precision is ill-defined and being set to 0.0 in labels with no predicted samples. Use `zero_division` parameter to control this behavior.\n",
            "  _warn_prf(average, modifier, f\"{metric.capitalize()} is\", len(result))\n"
          ]
        }
      ],
      "source": [
        "# Print classification report\n",
        "print(\"\\nClassification Report:\")\n",
        "\n",
        "# Get the unique classes that actually appear in the test predictions and actual values\n",
        "unique_classes = sorted(set(np.unique(test_preds)) | set(np.unique(test_actuals)))\n",
        "print(f\"Unique classes in test data: {unique_classes}\")\n",
        "\n",
        "# Create a mapping of these classes to their names\n",
        "class_names = [list(label_map.keys())[i] if i < len(label_map) else f\"Class_{i}\"\n",
        "               for i in unique_classes]\n",
        "\n",
        "# Use the actual classes that appear in the data\n",
        "class_report = classification_report(\n",
        "    test_actuals,\n",
        "    test_preds,\n",
        "    labels=unique_classes,  # Use only the labels that appear in the data\n",
        "    target_names=class_names,\n",
        "    digits=4\n",
        ")\n",
        "print(class_report)"
      ]
    },
    {
      "cell_type": "markdown",
      "metadata": {
        "id": "0Va5SYi-PRLk"
      },
      "source": [
        "## 16. Visualize Confusion Matrix"
      ]
    },
    {
      "cell_type": "code",
      "execution_count": null,
      "metadata": {
        "colab": {
          "base_uri": "https://localhost:8080/",
          "height": 710
        },
        "id": "oV49pkm-PRLk",
        "outputId": "1e337c37-59e4-4fcf-8cad-6c3df2cf586d"
      },
      "outputs": [
        {
          "output_type": "display_data",
          "data": {
            "text/plain": [
              "<Figure size 1200x1000 with 2 Axes>"
            ],
            "image/png": "[encoded data removed]"
          },
          "metadata": {}
        }
      ],
      "source": [
        "# Plot confusion matrix\n",
        "plt.figure(figsize=(12, 10))\n",
        "cm = confusion_matrix(test_actuals, test_preds)\n",
        "sns.heatmap(cm, annot=True, fmt='d', cmap='Blues', xticklabels=list(label_map.keys()), yticklabels=list(label_map.keys()))\n",
        "plt.title('Confusion Matrix')\n",
        "plt.ylabel('Actual')\n",
        "plt.xlabel('Predicted')\n",
        "plt.xticks(rotation=90)\n",
        "plt.tight_layout()\n",
        "plt.savefig('confusion_matrix.png')\n",
        "plt.show()"
      ]
    },
    {
      "cell_type": "markdown",
      "metadata": {
        "id": "yUjHosAxPRLk"
      },
      "source": [
        "## 17. Visualize Training Metrics"
      ]
    },
    {
      "cell_type": "code",
      "execution_count": null,
      "metadata": {
        "colab": {
          "base_uri": "https://localhost:8080/",
          "height": 514
        },
        "id": "kBW5MTpPPRLl",
        "outputId": "08caf971-23f8-490a-e872-9c5f57a855ad"
      },
      "outputs": [
        {
          "output_type": "display_data",
          "data": {
            "text/plain": [
              "<Figure size 1000x600 with 1 Axes>"
            ],
            "image/png": "[encoded data removed]"
          },
          "metadata": {}
        }
      ],
      "source": [
        "# Visualize training metrics\n",
        "logs = trainer.state.log_history\n",
        "epochs = []\n",
        "eval_f1 = []\n",
        "\n",
        "for log in logs:\n",
        "    if 'epoch' in log and 'eval_f1' in log:\n",
        "        epochs.append(log['epoch'])\n",
        "        eval_f1.append(log['eval_f1'])\n",
        "\n",
        "plt.figure(figsize=(10, 6))\n",
        "plt.plot(epochs, eval_f1, label='Validation F1')\n",
        "plt.xlabel('Epoch')\n",
        "plt.ylabel('F1 Score')\n",
        "plt.title('Validation F1 Score over Epochs')\n",
        "plt.legend()\n",
        "plt.savefig('training_metrics.png')\n",
        "plt.show()"
      ]
    },
    {
      "cell_type": "markdown",
      "metadata": {
        "id": "B8lyFBfWPRLl"
      },
      "source": [
        "## 18. XAI with SHAP\n",
        "\n",
        "Explainable AI to understand model predictions and root causes of anomalies."
      ]
    },
    {
      "cell_type": "code",
      "execution_count": null,
      "metadata": {
        "colab": {
          "base_uri": "https://localhost:8080/"
        },
        "id": "5I7pqpmVPRLo",
        "outputId": "6b09c064-3859-4c88-d7a9-46885411daab"
      },
      "outputs": [
        {
          "output_type": "stream",
          "name": "stdout",
          "text": [
            "\n",
            "Performing SHAP analysis for explainability...\n"
          ]
        }
      ],
      "source": [
        "# XAI with SHAP\n",
        "print(\"\\nPerforming SHAP analysis for explainability...\")\n",
        "\n",
        "# Convert sample to inputs\n",
        "def shap_preprocess(texts, max_samples=50):\n",
        "    # Take a subset of texts for analysis\n",
        "    sample_texts = texts[:max_samples]\n",
        "\n",
        "    # Get original predictions for these texts\n",
        "    sample_encodings = tokenizer(sample_texts, padding='max_length', truncation=True, max_length=MAX_LENGTH, return_tensors='pt')\n",
        "    sample_encodings = {k: v.to(device) for k, v in sample_encodings.items()}\n",
        "\n",
        "    with torch.no_grad():\n",
        "        outputs = model(**sample_encodings)\n",
        "        if isinstance(outputs, tuple):\n",
        "            logits = outputs[1]\n",
        "        else:\n",
        "            logits = outputs\n",
        "        probs = torch.nn.functional.softmax(logits, dim=1)\n",
        "\n",
        "    # Return both the encodings and predictions\n",
        "    return sample_encodings, probs, sample_texts\n",
        "\n",
        "# Take a small sample of logs for analysis\n",
        "sample_encodings, sample_preds, sample_texts = shap_preprocess(X_test.tolist())"
      ]
    },
    {
      "cell_type": "code",
      "execution_count": null,
      "metadata": {
        "id": "HtvoLxQ-PRLo"
      },
      "outputs": [],
      "source": [
        "# Create a more robust SHAP explainer function\n",
        "def f(inputs):\n",
        "    model.eval()\n",
        "\n",
        "    # Convert inputs to tensors and handle string inputs\n",
        "    if isinstance(inputs, dict):\n",
        "        # Dictionary input - keep as is but ensure on right device\n",
        "        input_dict = {k: v.to(device) if isinstance(v, torch.Tensor) else torch.tensor(v).to(device)\n",
        "                      for k, v in inputs.items()}\n",
        "    elif isinstance(inputs, np.ndarray):\n",
        "        # Check if we have string inputs that need tokenization\n",
        "        if inputs.dtype.type is np.str_ or inputs.dtype.type is np.object_:\n",
        "            # We have text inputs, tokenize them\n",
        "            tokenized = tokenizer(inputs.tolist(), padding='max_length', truncation=True,\n",
        "                                 max_length=128, return_tensors='pt')\n",
        "            input_dict = {k: v.to(device) for k, v in tokenized.items()}\n",
        "        else:\n",
        "            # We have numeric inputs, convert directly\n",
        "            input_ids = torch.tensor(inputs).to(device)\n",
        "            attention_mask = (input_ids != 0).long().to(device)\n",
        "            input_dict = {\n",
        "                'input_ids': input_ids,\n",
        "                'attention_mask': attention_mask\n",
        "            }\n",
        "    else:\n",
        "        # Handle other input types (like lists)\n",
        "        tokenized = tokenizer(inputs, padding='max_length', truncation=True,\n",
        "                             max_length=128, return_tensors='pt')\n",
        "        input_dict = {k: v.to(device) for k, v in tokenized.items()}\n",
        "\n",
        "    # Run the model with the properly formatted inputs\n",
        "    with torch.no_grad():\n",
        "        outputs = model(**input_dict)\n",
        "\n",
        "    # Return the appropriate output\n",
        "    if isinstance(outputs, tuple):\n",
        "        return outputs[1].detach().cpu().numpy()\n",
        "    return outputs.detach().cpu().numpy()\n",
        "\n",
        "# Initialize the SHAP explainer with the fixed function\n",
        "explainer = shap.Explainer(f, tokenizer)"
      ]
    },
    {
      "cell_type": "code",
      "execution_count": null,
      "metadata": {
        "colab": {
          "base_uri": "https://localhost:8080/",
          "height": 992
        },
        "id": "E_yV0uYBPRLo",
        "outputId": "71dee6d1-089b-41d5-b62c-92926914e8b4"
      },
      "outputs": [
        {
          "output_type": "stream",
          "name": "stdout",
          "text": [
            "SHAP values shape: (2, None, 11)\n"
          ]
        },
        {
          "output_type": "display_data",
          "data": {
            "text/plain": [
              "<IPython.core.display.HTML object>"
            ],
            "text/html": [
              "<svg width=\"100%\" height=\"80px\"><line x1=\"0\" y1=\"33\" x2=\"100%\" y2=\"33\" style=\"stroke:rgb(150,150,150);stroke-width:1\" /><line x1=\"55.725340623151205%\" y1=\"33\" x2=\"55.725340623151205%\" y2=\"37\" style=\"stroke:rgb(150,150,150);stroke-width:1\" /><text x=\"55.725340623151205%\" y=\"27\" font-size=\"12px\" fill=\"rgb(120,120,120)\" dominant-baseline=\"bottom\" text-anchor=\"middle\">-0.2</text><line x1=\"35.1576713541178%\" y1=\"33\" x2=\"35.1576713541178%\" y2=\"37\" style=\"stroke:rgb(150,150,150);stroke-width:1\" /><text x=\"35.1576713541178%\" y=\"27\" font-size=\"12px\" fill=\"rgb(120,120,120)\" dominant-baseline=\"bottom\" text-anchor=\"middle\">-0.3</text><line x1=\"14.590002085084423%\" y1=\"33\" x2=\"14.590002085084423%\" y2=\"37\" style=\"stroke:rgb(150,150,150);stroke-width:1\" /><text x=\"14.590002085084423%\" y=\"27\" font-size=\"12px\" fill=\"rgb(120,120,120)\" dominant-baseline=\"bottom\" text-anchor=\"middle\">-0.4</text><line x1=\"76.29300989218459%\" y1=\"33\" x2=\"76.29300989218459%\" y2=\"37\" style=\"stroke:rgb(150,150,150);stroke-width:1\" /><text x=\"76.29300989218459%\" y=\"27\" font-size=\"12px\" fill=\"rgb(120,120,120)\" dominant-baseline=\"bottom\" text-anchor=\"middle\">-0.1</text><line x1=\"91.66666478129699%\" y1=\"33\" x2=\"91.66666478129699%\" y2=\"37\" style=\"stroke:rgb(150,150,150);stroke-width:1\" /><text x=\"91.66666478129699%\" y=\"27\" font-size=\"13px\" style=\"stroke:#ffffff;stroke-width:8px;\" fill=\"rgb(255,255,255)\" dominant-baseline=\"bottom\" text-anchor=\"middle\">-0.0252533</text><text x=\"91.66666478129699%\" y=\"27\" font-size=\"12px\" fill=\"rgb(120,120,120)\" dominant-baseline=\"bottom\" text-anchor=\"middle\">-0.0252533</text><text x=\"91.66666478129699%\" y=\"10\" font-size=\"12px\" fill=\"rgb(120,120,120)\" dominant-baseline=\"bottom\" text-anchor=\"middle\">base value</text><line x1=\"8.333333161936087%\" y1=\"33\" x2=\"8.333333161936087%\" y2=\"37\" style=\"stroke:rgb(150,150,150);stroke-width:1\" /><text x=\"8.333333161936087%\" y=\"27\" font-size=\"13px\" style=\"stroke:#ffffff;stroke-width:8px;\" font-weight=\"bold\" fill=\"rgb(255,255,255)\" dominant-baseline=\"bottom\" text-anchor=\"middle\">-0.43042</text><text x=\"8.333333161936087%\" y=\"27\" font-size=\"13px\" font-weight=\"bold\" fill=\"rgb(0,0,0)\" dominant-baseline=\"bottom\" text-anchor=\"middle\">-0.43042</text><text x=\"8.333333161936087%\" y=\"10\" font-size=\"12px\" fill=\"rgb(120,120,120)\" dominant-baseline=\"bottom\" text-anchor=\"middle\">f<tspan baseline-shift=\"sub\" font-size=\"8px\">Output 2</tspan>(inputs)</text><rect x=\"8.333333161936087%\" width=\"0.0%\" y=\"40\" height=\"18\" style=\"fill:rgb(np.float64(255.0), np.float64(0.0), np.float64(81.08083606031792)); stroke-width:0; stroke:rgb(0,0,0)\" /><rect transform=\"translate(-8,0)\" x=\"8.333333161936087%\" y=\"40\" width=\"8\" height=\"18\" style=\"fill:rgb(np.float64(255.0), np.float64(0.0), np.float64(81.08083606031792))\"/><g transform=\"translate(-11.5,0)\">  <svg x=\"8.333333161936087%\" y=\"40\" height=\"18\" overflow=\"visible\" width=\"30\">    <path d=\"M 10 -9 l 6 18 L 10 25 L 0 25 L 0 -9\" fill=\"#ffffff\" style=\"stroke:rgb(255,255,255);stroke-width:2\" />  </svg></g><rect x=\"8.333333161936087%\" width=\"83.3333316193609%\" y=\"40\" height=\"18\" style=\"fill:rgb(np.float64(0.0), np.float64(138.56128015770727), np.float64(250.76166088685727)); stroke-width:0; stroke:rgb(0,0,0)\" /><line x1=\"8.333333161936087%\" x2=\"44.07523305950537%\" y1=\"60\" y2=\"60\" id=\"_fb_usieyiccwpusnzjovqwp_ind_1\" style=\"stroke:rgb(np.float64(0.0), np.float64(138.56128015770727), np.float64(250.76166088685727));stroke-width:2; opacity: 0\"/><text x=\"26.20428311072073%\" y=\"71\" font-size=\"12px\" fill=\"rgb(np.float64(0.0), np.float64(138.56128015770727), np.float64(250.76166088685727))\" id=\"_fs_usieyiccwpusnzjovqwp_ind_1\" style=\"opacity: 0\" dominant-baseline=\"middle\" text-anchor=\"middle\">-0.174</text><svg x=\"8.333333161936087%\" y=\"40\" height=\"20\" width=\"35.74189989756928%\">  <svg x=\"0\" y=\"0\" width=\"100%\" height=\"100%\">    <text x=\"50%\" y=\"9\" font-size=\"12px\" fill=\"rgb(255,255,255)\" dominant-baseline=\"middle\" text-anchor=\"middle\">input</text>  </svg></svg><line x1=\"44.07523305950537%\" x2=\"64.84555323324479%\" y1=\"60\" y2=\"60\" id=\"_fb_usieyiccwpusnzjovqwp_ind_4\" style=\"stroke:rgb(np.float64(0.0), np.float64(138.56128015770727), np.float64(250.76166088685727));stroke-width:2; opacity: 0\"/><text x=\"54.46039314637508%\" y=\"71\" font-size=\"12px\" fill=\"rgb(np.float64(0.0), np.float64(138.56128015770727), np.float64(250.76166088685727))\" id=\"_fs_usieyiccwpusnzjovqwp_ind_4\" style=\"opacity: 0\" dominant-baseline=\"middle\" text-anchor=\"middle\">-0.101</text><svg x=\"44.07523305950537%\" y=\"40\" height=\"20\" width=\"20.770320173739414%\">  <svg x=\"0\" y=\"0\" width=\"100%\" height=\"100%\">    <text x=\"50%\" y=\"9\" font-size=\"12px\" fill=\"rgb(255,255,255)\" dominant-baseline=\"middle\" text-anchor=\"middle\">s</text>  </svg></svg><line x1=\"64.84555323324479%\" x2=\"81.70440103140272%\" y1=\"60\" y2=\"60\" id=\"_fb_usieyiccwpusnzjovqwp_ind_2\" style=\"stroke:rgb(np.float64(0.0), np.float64(138.56128015770727), np.float64(250.76166088685727));stroke-width:2; opacity: 0\"/><text x=\"73.27497713232376%\" y=\"71\" font-size=\"12px\" fill=\"rgb(np.float64(0.0), np.float64(138.56128015770727), np.float64(250.76166088685727))\" id=\"_fs_usieyiccwpusnzjovqwp_ind_2\" style=\"opacity: 0\" dominant-baseline=\"middle\" text-anchor=\"middle\">-0.082</text><svg x=\"64.84555323324479%\" y=\"40\" height=\"20\" width=\"16.85884779815794%\">  <svg x=\"0\" y=\"0\" width=\"100%\" height=\"100%\">    <text x=\"50%\" y=\"9\" font-size=\"12px\" fill=\"rgb(255,255,255)\" dominant-baseline=\"middle\" text-anchor=\"middle\">_</text>  </svg></svg><line x1=\"81.70440103140272%\" x2=\"91.64155776314631%\" y1=\"60\" y2=\"60\" id=\"_fb_usieyiccwpusnzjovqwp_ind_3\" style=\"stroke:rgb(np.float64(0.0), np.float64(138.56128015770727), np.float64(250.76166088685727));stroke-width:2; opacity: 0\"/><text x=\"86.67297939727452%\" y=\"71\" font-size=\"12px\" fill=\"rgb(np.float64(0.0), np.float64(138.56128015770727), np.float64(250.76166088685727))\" id=\"_fs_usieyiccwpusnzjovqwp_ind_3\" style=\"opacity: 0\" dominant-baseline=\"middle\" text-anchor=\"middle\">-0.048</text><svg x=\"81.70440103140272%\" y=\"40\" height=\"20\" width=\"9.937156731743585%\">  <svg x=\"0\" y=\"0\" width=\"100%\" height=\"100%\">    <text x=\"50%\" y=\"9\" font-size=\"12px\" fill=\"rgb(255,255,255)\" dominant-baseline=\"middle\" text-anchor=\"middle\">id</text>  </svg></svg><line x1=\"91.64155776314631%\" x2=\"91.65577853514571%\" y1=\"60\" y2=\"60\" id=\"_fb_usieyiccwpusnzjovqwp_ind_0\" style=\"stroke:rgb(np.float64(0.0), np.float64(138.56128015770727), np.float64(250.76166088685727));stroke-width:2; opacity: 0\"/><text x=\"91.648668149146%\" y=\"71\" font-size=\"12px\" fill=\"rgb(np.float64(0.0), np.float64(138.56128015770727), np.float64(250.76166088685727))\" id=\"_fs_usieyiccwpusnzjovqwp_ind_0\" style=\"opacity: 0\" dominant-baseline=\"middle\" text-anchor=\"middle\">-0.0</text><svg x=\"91.64155776314631%\" y=\"40\" height=\"20\" width=\"0.014220771999404747%\">  <svg x=\"0\" y=\"0\" width=\"100%\" height=\"100%\">    <text x=\"50%\" y=\"9\" font-size=\"12px\" fill=\"rgb(255,255,255)\" dominant-baseline=\"middle\" text-anchor=\"middle\"></text>  </svg></svg><line x1=\"91.65577853514571%\" x2=\"91.66666478129699%\" y1=\"60\" y2=\"60\" id=\"_fb_usieyiccwpusnzjovqwp_ind_5\" style=\"stroke:rgb(np.float64(0.0), np.float64(138.56128015770727), np.float64(250.76166088685727));stroke-width:2; opacity: 0\"/><text x=\"91.66122165822135%\" y=\"71\" font-size=\"12px\" fill=\"rgb(np.float64(0.0), np.float64(138.56128015770727), np.float64(250.76166088685727))\" id=\"_fs_usieyiccwpusnzjovqwp_ind_5\" style=\"opacity: 0\" dominant-baseline=\"middle\" text-anchor=\"middle\">-0.0</text><svg x=\"91.65577853514571%\" y=\"40\" height=\"20\" width=\"0.010886246151272871%\">  <svg x=\"0\" y=\"0\" width=\"100%\" height=\"100%\">    <text x=\"50%\" y=\"9\" font-size=\"12px\" fill=\"rgb(255,255,255)\" dominant-baseline=\"middle\" text-anchor=\"middle\"></text>  </svg></svg><g transform=\"translate(-8,0)\">  <svg x=\"44.07523305950537%\" y=\"40\" height=\"18\" overflow=\"visible\" width=\"30\">    <path d=\"M 8 -9 l -6 18 L 8 25\" fill=\"none\" style=\"stroke:rgb(np.float64(0.0), np.float64(138.56128015770727), np.float64(250.76166088685727));stroke-width:2\" />  </svg></g><g transform=\"translate(-10,0)\">  <svg x=\"44.07523305950537%\" y=\"40\" height=\"18\" overflow=\"visible\" width=\"30\">    <path d=\"M 8 -9 l -6 18 L 8 25\" fill=\"none\" style=\"stroke:rgb(np.float64(0.0), np.float64(138.56128015770727), np.float64(250.76166088685727));stroke-width:2\" />  </svg></g><g transform=\"translate(-12,0)\">  <svg x=\"44.07523305950537%\" y=\"40\" height=\"18\" overflow=\"visible\" width=\"30\">    <path d=\"M 8 -9 l -6 18 L 8 25\" fill=\"none\" style=\"stroke:rgb(np.float64(0.0), np.float64(138.56128015770727), np.float64(250.76166088685727));stroke-width:2\" />  </svg></g><g transform=\"translate(-14,0)\">  <svg x=\"44.07523305950537%\" y=\"40\" height=\"18\" overflow=\"visible\" width=\"30\">    <path d=\"M 8 -9 l -6 18 L 8 25\" fill=\"none\" style=\"stroke:rgb(np.float64(0.0), np.float64(138.56128015770727), np.float64(250.76166088685727));stroke-width:2\" />  </svg></g><g transform=\"translate(2,0)\">  <svg x=\"44.07523305950537%\" y=\"40\" height=\"18\" overflow=\"visible\" width=\"30\">    <path d=\"M 8 -9 l -6 18 L 8 25\" fill=\"none\" style=\"stroke:rgb(np.float64(0.0), np.float64(138.56128015770727), np.float64(250.76166088685727));stroke-width:2\" />  </svg></g><g transform=\"translate(0,0)\">  <svg x=\"44.07523305950537%\" y=\"40\" height=\"18\" overflow=\"visible\" width=\"30\">    <path d=\"M 8 -9 l -6 18 L 8 25\" fill=\"none\" style=\"stroke:rgb(np.float64(0.0), np.float64(138.56128015770727), np.float64(250.76166088685727));stroke-width:2\" />  </svg></g><g transform=\"translate(-2,0)\">  <svg x=\"44.07523305950537%\" y=\"40\" height=\"18\" overflow=\"visible\" width=\"30\">    <path d=\"M 8 -9 l -6 18 L 8 25\" fill=\"none\" style=\"stroke:rgb(np.float64(0.0), np.float64(138.56128015770727), np.float64(250.76166088685727));stroke-width:2\" />  </svg></g><g transform=\"translate(-4,0)\">  <svg x=\"44.07523305950537%\" y=\"40\" height=\"18\" overflow=\"visible\" width=\"30\">    <path d=\"M 8 -9 l -6 18 L 8 25\" fill=\"none\" style=\"stroke:rgb(np.float64(0.0), np.float64(138.56128015770727), np.float64(250.76166088685727));stroke-width:2\" />  </svg></g><g transform=\"translate(-8,0)\">  <svg x=\"64.84555323324479%\" y=\"40\" height=\"18\" overflow=\"visible\" width=\"30\">    <path d=\"M 8 -9 l -6 18 L 8 25\" fill=\"none\" style=\"stroke:rgb(np.float64(0.0), np.float64(138.56128015770727), np.float64(250.76166088685727));stroke-width:2\" />  </svg></g><g transform=\"translate(-10,0)\">  <svg x=\"64.84555323324479%\" y=\"40\" height=\"18\" overflow=\"visible\" width=\"30\">    <path d=\"M 8 -9 l -6 18 L 8 25\" fill=\"none\" style=\"stroke:rgb(np.float64(0.0), np.float64(138.56128015770727), np.float64(250.76166088685727));stroke-width:2\" />  </svg></g><g transform=\"translate(-12,0)\">  <svg x=\"64.84555323324479%\" y=\"40\" height=\"18\" overflow=\"visible\" width=\"30\">    <path d=\"M 8 -9 l -6 18 L 8 25\" fill=\"none\" style=\"stroke:rgb(np.float64(0.0), np.float64(138.56128015770727), np.float64(250.76166088685727));stroke-width:2\" />  </svg></g><g transform=\"translate(-14,0)\">  <svg x=\"64.84555323324479%\" y=\"40\" height=\"18\" overflow=\"visible\" width=\"30\">    <path d=\"M 8 -9 l -6 18 L 8 25\" fill=\"none\" style=\"stroke:rgb(np.float64(0.0), np.float64(138.56128015770727), np.float64(250.76166088685727));stroke-width:2\" />  </svg></g><g transform=\"translate(2,0)\">  <svg x=\"64.84555323324479%\" y=\"40\" height=\"18\" overflow=\"visible\" width=\"30\">    <path d=\"M 8 -9 l -6 18 L 8 25\" fill=\"none\" style=\"stroke:rgb(np.float64(0.0), np.float64(138.56128015770727), np.float64(250.76166088685727));stroke-width:2\" />  </svg></g><g transform=\"translate(0,0)\">  <svg x=\"64.84555323324479%\" y=\"40\" height=\"18\" overflow=\"visible\" width=\"30\">    <path d=\"M 8 -9 l -6 18 L 8 25\" fill=\"none\" style=\"stroke:rgb(np.float64(0.0), np.float64(138.56128015770727), np.float64(250.76166088685727));stroke-width:2\" />  </svg></g><g transform=\"translate(-2,0)\">  <svg x=\"64.84555323324479%\" y=\"40\" height=\"18\" overflow=\"visible\" width=\"30\">    <path d=\"M 8 -9 l -6 18 L 8 25\" fill=\"none\" style=\"stroke:rgb(np.float64(0.0), np.float64(138.56128015770727), np.float64(250.76166088685727));stroke-width:2\" />  </svg></g><g transform=\"translate(-4,0)\">  <svg x=\"64.84555323324479%\" y=\"40\" height=\"18\" overflow=\"visible\" width=\"30\">    <path d=\"M 8 -9 l -6 18 L 8 25\" fill=\"none\" style=\"stroke:rgb(np.float64(0.0), np.float64(138.56128015770727), np.float64(250.76166088685727));stroke-width:2\" />  </svg></g><g transform=\"translate(-8,0)\">  <svg x=\"81.70440103140272%\" y=\"40\" height=\"18\" overflow=\"visible\" width=\"30\">    <path d=\"M 8 -9 l -6 18 L 8 25\" fill=\"none\" style=\"stroke:rgb(np.float64(0.0), np.float64(138.56128015770727), np.float64(250.76166088685727));stroke-width:2\" />  </svg></g><g transform=\"translate(-10,0)\">  <svg x=\"81.70440103140272%\" y=\"40\" height=\"18\" overflow=\"visible\" width=\"30\">    <path d=\"M 8 -9 l -6 18 L 8 25\" fill=\"none\" style=\"stroke:rgb(np.float64(0.0), np.float64(138.56128015770727), np.float64(250.76166088685727));stroke-width:2\" />  </svg></g><g transform=\"translate(-12,0)\">  <svg x=\"81.70440103140272%\" y=\"40\" height=\"18\" overflow=\"visible\" width=\"30\">    <path d=\"M 8 -9 l -6 18 L 8 25\" fill=\"none\" style=\"stroke:rgb(np.float64(0.0), np.float64(138.56128015770727), np.float64(250.76166088685727));stroke-width:2\" />  </svg></g><g transform=\"translate(-14,0)\">  <svg x=\"81.70440103140272%\" y=\"40\" height=\"18\" overflow=\"visible\" width=\"30\">    <path d=\"M 8 -9 l -6 18 L 8 25\" fill=\"none\" style=\"stroke:rgb(np.float64(0.0), np.float64(138.56128015770727), np.float64(250.76166088685727));stroke-width:2\" />  </svg></g><g transform=\"translate(2,0)\">  <svg x=\"81.70440103140272%\" y=\"40\" height=\"18\" overflow=\"visible\" width=\"30\">    <path d=\"M 8 -9 l -6 18 L 8 25\" fill=\"none\" style=\"stroke:rgb(np.float64(0.0), np.float64(138.56128015770727), np.float64(250.76166088685727));stroke-width:2\" />  </svg></g><g transform=\"translate(0,0)\">  <svg x=\"81.70440103140272%\" y=\"40\" height=\"18\" overflow=\"visible\" width=\"30\">    <path d=\"M 8 -9 l -6 18 L 8 25\" fill=\"none\" style=\"stroke:rgb(np.float64(0.0), np.float64(138.56128015770727), np.float64(250.76166088685727));stroke-width:2\" />  </svg></g><g transform=\"translate(-2,0)\">  <svg x=\"81.70440103140272%\" y=\"40\" height=\"18\" overflow=\"visible\" width=\"30\">    <path d=\"M 8 -9 l -6 18 L 8 25\" fill=\"none\" style=\"stroke:rgb(np.float64(0.0), np.float64(138.56128015770727), np.float64(250.76166088685727));stroke-width:2\" />  </svg></g><g transform=\"translate(-4,0)\">  <svg x=\"81.70440103140272%\" y=\"40\" height=\"18\" overflow=\"visible\" width=\"30\">    <path d=\"M 8 -9 l -6 18 L 8 25\" fill=\"none\" style=\"stroke:rgb(np.float64(0.0), np.float64(138.56128015770727), np.float64(250.76166088685727));stroke-width:2\" />  </svg></g><g transform=\"translate(-8,0)\">  <svg x=\"91.64155776314631%\" y=\"40\" height=\"18\" overflow=\"visible\" width=\"30\">    <path d=\"M 8 -9 l -6 18 L 8 25\" fill=\"none\" style=\"stroke:rgb(np.float64(0.0), np.float64(138.56128015770727), np.float64(250.76166088685727));stroke-width:2\" />  </svg></g><g transform=\"translate(-10,0)\">  <svg x=\"91.64155776314631%\" y=\"40\" height=\"18\" overflow=\"visible\" width=\"30\">    <path d=\"M 8 -9 l -6 18 L 8 25\" fill=\"none\" style=\"stroke:rgb(np.float64(0.0), np.float64(138.56128015770727), np.float64(250.76166088685727));stroke-width:2\" />  </svg></g><g transform=\"translate(-12,0)\">  <svg x=\"91.64155776314631%\" y=\"40\" height=\"18\" overflow=\"visible\" width=\"30\">    <path d=\"M 8 -9 l -6 18 L 8 25\" fill=\"none\" style=\"stroke:rgb(np.float64(0.0), np.float64(138.56128015770727), np.float64(250.76166088685727));stroke-width:2\" />  </svg></g><g transform=\"translate(-14,0)\">  <svg x=\"91.64155776314631%\" y=\"40\" height=\"18\" overflow=\"visible\" width=\"30\">    <path d=\"M 8 -9 l -6 18 L 8 25\" fill=\"none\" style=\"stroke:rgb(np.float64(0.0), np.float64(138.56128015770727), np.float64(250.76166088685727));stroke-width:2\" />  </svg></g><g transform=\"translate(2,0)\">  <svg x=\"91.64155776314631%\" y=\"40\" height=\"18\" overflow=\"visible\" width=\"30\">    <path d=\"M 8 -9 l -6 18 L 8 25\" fill=\"none\" style=\"stroke:rgb(np.float64(0.0), np.float64(138.56128015770727), np.float64(250.76166088685727));stroke-width:2\" />  </svg></g><g transform=\"translate(0,0)\">  <svg x=\"91.64155776314631%\" y=\"40\" height=\"18\" overflow=\"visible\" width=\"30\">    <path d=\"M 8 -9 l -6 18 L 8 25\" fill=\"none\" style=\"stroke:rgb(np.float64(0.0), np.float64(138.56128015770727), np.float64(250.76166088685727));stroke-width:2\" />  </svg></g><g transform=\"translate(-2,0)\">  <svg x=\"91.64155776314631%\" y=\"40\" height=\"18\" overflow=\"visible\" width=\"30\">    <path d=\"M 8 -9 l -6 18 L 8 25\" fill=\"none\" style=\"stroke:rgb(np.float64(0.0), np.float64(138.56128015770727), np.float64(250.76166088685727));stroke-width:2\" />  </svg></g><g transform=\"translate(-4,0)\">  <svg x=\"91.64155776314631%\" y=\"40\" height=\"18\" overflow=\"visible\" width=\"30\">    <path d=\"M 8 -9 l -6 18 L 8 25\" fill=\"none\" style=\"stroke:rgb(np.float64(0.0), np.float64(138.56128015770727), np.float64(250.76166088685727));stroke-width:2\" />  </svg></g><g transform=\"translate(-8,0)\">  <svg x=\"91.65577853514571%\" y=\"40\" height=\"18\" overflow=\"visible\" width=\"30\">    <path d=\"M 8 -9 l -6 18 L 8 25\" fill=\"none\" style=\"stroke:rgb(np.float64(0.0), np.float64(138.56128015770727), np.float64(250.76166088685727));stroke-width:2\" />  </svg></g><g transform=\"translate(-10,0)\">  <svg x=\"91.65577853514571%\" y=\"40\" height=\"18\" overflow=\"visible\" width=\"30\">    <path d=\"M 8 -9 l -6 18 L 8 25\" fill=\"none\" style=\"stroke:rgb(np.float64(0.0), np.float64(138.56128015770727), np.float64(250.76166088685727));stroke-width:2\" />  </svg></g><g transform=\"translate(-12,0)\">  <svg x=\"91.65577853514571%\" y=\"40\" height=\"18\" overflow=\"visible\" width=\"30\">    <path d=\"M 8 -9 l -6 18 L 8 25\" fill=\"none\" style=\"stroke:rgb(np.float64(0.0), np.float64(138.56128015770727), np.float64(250.76166088685727));stroke-width:2\" />  </svg></g><g transform=\"translate(-14,0)\">  <svg x=\"91.65577853514571%\" y=\"40\" height=\"18\" overflow=\"visible\" width=\"30\">    <path d=\"M 8 -9 l -6 18 L 8 25\" fill=\"none\" style=\"stroke:rgb(np.float64(0.0), np.float64(138.56128015770727), np.float64(250.76166088685727));stroke-width:2\" />  </svg></g><g transform=\"translate(2,0)\">  <svg x=\"91.65577853514571%\" y=\"40\" height=\"18\" overflow=\"visible\" width=\"30\">    <path d=\"M 8 -9 l -6 18 L 8 25\" fill=\"none\" style=\"stroke:rgb(np.float64(0.0), np.float64(138.56128015770727), np.float64(250.76166088685727));stroke-width:2\" />  </svg></g><g transform=\"translate(0,0)\">  <svg x=\"91.65577853514571%\" y=\"40\" height=\"18\" overflow=\"visible\" width=\"30\">    <path d=\"M 8 -9 l -6 18 L 8 25\" fill=\"none\" style=\"stroke:rgb(np.float64(0.0), np.float64(138.56128015770727), np.float64(250.76166088685727));stroke-width:2\" />  </svg></g><g transform=\"translate(-2,0)\">  <svg x=\"91.65577853514571%\" y=\"40\" height=\"18\" overflow=\"visible\" width=\"30\">    <path d=\"M 8 -9 l -6 18 L 8 25\" fill=\"none\" style=\"stroke:rgb(np.float64(0.0), np.float64(138.56128015770727), np.float64(250.76166088685727));stroke-width:2\" />  </svg></g><g transform=\"translate(-4,0)\">  <svg x=\"91.65577853514571%\" y=\"40\" height=\"18\" overflow=\"visible\" width=\"30\">    <path d=\"M 8 -9 l -6 18 L 8 25\" fill=\"none\" style=\"stroke:rgb(np.float64(0.0), np.float64(138.56128015770727), np.float64(250.76166088685727));stroke-width:2\" />  </svg></g><rect transform=\"translate(0,0)\" x=\"8.333333161936087%\" y=\"40\" width=\"8\" height=\"18\" style=\"fill:rgb(np.float64(0.0), np.float64(138.56128015770727), np.float64(250.76166088685727))\"/><g transform=\"translate(-6.0,0)\">  <svg x=\"91.66666478129699%\" y=\"40\" height=\"18\" overflow=\"visible\" width=\"30\">    <path d=\"M 8 -9 l -6 18 L 8 25 L 20 25 L 20 -9\" fill=\"#ffffff\" style=\"stroke:rgb(255,255,255);stroke-width:2\" />  </svg></g><g transform=\"translate(-6.0,0)\">  <svg x=\"44.07523305950537%\" y=\"40\" height=\"18\" overflow=\"visible\" width=\"30\">    <path d=\"M 8 -9 l -6 18 L 8 25\" fill=\"none\" style=\"stroke:rgb(208, 230, 250);stroke-width:2\" />  </svg></g><rect x=\"8.333333161936087%\" y=\"40\" height=\"20\" width=\"35.74189989756928%\"      onmouseover=\"document.getElementById('_tp_usieyiccwpusnzjovqwp_ind_1').style.textDecoration = 'underline';document.getElementById('_fs_usieyiccwpusnzjovqwp_ind_1').style.opacity = 1;document.getElementById('_fb_usieyiccwpusnzjovqwp_ind_1').style.opacity = 1;\"      onmouseout=\"document.getElementById('_tp_usieyiccwpusnzjovqwp_ind_1').style.textDecoration = 'none';document.getElementById('_fs_usieyiccwpusnzjovqwp_ind_1').style.opacity = 0;document.getElementById('_fb_usieyiccwpusnzjovqwp_ind_1').style.opacity = 0;\" style=\"fill:rgb(0,0,0,0)\" /><g transform=\"translate(-6.0,0)\">  <svg x=\"64.84555323324479%\" y=\"40\" height=\"18\" overflow=\"visible\" width=\"30\">    <path d=\"M 8 -9 l -6 18 L 8 25\" fill=\"none\" style=\"stroke:rgb(208, 230, 250);stroke-width:2\" />  </svg></g><rect x=\"44.07523305950537%\" y=\"40\" height=\"20\" width=\"20.770320173739414%\"      onmouseover=\"document.getElementById('_tp_usieyiccwpusnzjovqwp_ind_4').style.textDecoration = 'underline';document.getElementById('_fs_usieyiccwpusnzjovqwp_ind_4').style.opacity = 1;document.getElementById('_fb_usieyiccwpusnzjovqwp_ind_4').style.opacity = 1;\"      onmouseout=\"document.getElementById('_tp_usieyiccwpusnzjovqwp_ind_4').style.textDecoration = 'none';document.getElementById('_fs_usieyiccwpusnzjovqwp_ind_4').style.opacity = 0;document.getElementById('_fb_usieyiccwpusnzjovqwp_ind_4').style.opacity = 0;\" style=\"fill:rgb(0,0,0,0)\" /><g transform=\"translate(-6.0,0)\">  <svg x=\"81.70440103140272%\" y=\"40\" height=\"18\" overflow=\"visible\" width=\"30\">    <path d=\"M 8 -9 l -6 18 L 8 25\" fill=\"none\" style=\"stroke:rgb(208, 230, 250);stroke-width:2\" />  </svg></g><rect x=\"64.84555323324479%\" y=\"40\" height=\"20\" width=\"16.85884779815794%\"      onmouseover=\"document.getElementById('_tp_usieyiccwpusnzjovqwp_ind_2').style.textDecoration = 'underline';document.getElementById('_fs_usieyiccwpusnzjovqwp_ind_2').style.opacity = 1;document.getElementById('_fb_usieyiccwpusnzjovqwp_ind_2').style.opacity = 1;\"      onmouseout=\"document.getElementById('_tp_usieyiccwpusnzjovqwp_ind_2').style.textDecoration = 'none';document.getElementById('_fs_usieyiccwpusnzjovqwp_ind_2').style.opacity = 0;document.getElementById('_fb_usieyiccwpusnzjovqwp_ind_2').style.opacity = 0;\" style=\"fill:rgb(0,0,0,0)\" /><g transform=\"translate(-6.0,0)\">  <svg x=\"91.64155776314631%\" y=\"40\" height=\"18\" overflow=\"visible\" width=\"30\">    <path d=\"M 8 -9 l -6 18 L 8 25\" fill=\"none\" style=\"stroke:rgb(208, 230, 250);stroke-width:2\" />  </svg></g><rect x=\"81.70440103140272%\" y=\"40\" height=\"20\" width=\"9.937156731743585%\"      onmouseover=\"document.getElementById('_tp_usieyiccwpusnzjovqwp_ind_3').style.textDecoration = 'underline';document.getElementById('_fs_usieyiccwpusnzjovqwp_ind_3').style.opacity = 1;document.getElementById('_fb_usieyiccwpusnzjovqwp_ind_3').style.opacity = 1;\"      onmouseout=\"document.getElementById('_tp_usieyiccwpusnzjovqwp_ind_3').style.textDecoration = 'none';document.getElementById('_fs_usieyiccwpusnzjovqwp_ind_3').style.opacity = 0;document.getElementById('_fb_usieyiccwpusnzjovqwp_ind_3').style.opacity = 0;\" style=\"fill:rgb(0,0,0,0)\" /><g transform=\"translate(-6.0,0)\">  <svg x=\"91.65577853514571%\" y=\"40\" height=\"18\" overflow=\"visible\" width=\"30\">    <path d=\"M 8 -9 l -6 18 L 8 25\" fill=\"none\" style=\"stroke:rgb(208, 230, 250);stroke-width:2\" />  </svg></g><rect x=\"91.64155776314631%\" y=\"40\" height=\"20\" width=\"0.014220771999404747%\"      onmouseover=\"document.getElementById('_tp_usieyiccwpusnzjovqwp_ind_0').style.textDecoration = 'underline';document.getElementById('_fs_usieyiccwpusnzjovqwp_ind_0').style.opacity = 1;document.getElementById('_fb_usieyiccwpusnzjovqwp_ind_0').style.opacity = 1;\"      onmouseout=\"document.getElementById('_tp_usieyiccwpusnzjovqwp_ind_0').style.textDecoration = 'none';document.getElementById('_fs_usieyiccwpusnzjovqwp_ind_0').style.opacity = 0;document.getElementById('_fb_usieyiccwpusnzjovqwp_ind_0').style.opacity = 0;\" style=\"fill:rgb(0,0,0,0)\" /><rect x=\"91.65577853514571%\" y=\"40\" height=\"20\" width=\"0.010886246151272871%\"      onmouseover=\"document.getElementById('_tp_usieyiccwpusnzjovqwp_ind_5').style.textDecoration = 'underline';document.getElementById('_fs_usieyiccwpusnzjovqwp_ind_5').style.opacity = 1;document.getElementById('_fb_usieyiccwpusnzjovqwp_ind_5').style.opacity = 1;\"      onmouseout=\"document.getElementById('_tp_usieyiccwpusnzjovqwp_ind_5').style.textDecoration = 'none';document.getElementById('_fs_usieyiccwpusnzjovqwp_ind_5').style.opacity = 0;document.getElementById('_fb_usieyiccwpusnzjovqwp_ind_5').style.opacity = 0;\" style=\"fill:rgb(0,0,0,0)\" /></svg><div align='center'><div style=\"color: rgb(120,120,120); font-size: 12px; margin-top: -15px;\">inputs</div><div style='display: inline; text-align: center;'\n",
              "    ><div style='display: none; color: #999; padding-top: 0px; font-size: 12px;'>-0.0</div\n",
              "        ><div id='_tp_usieyiccwpusnzjovqwp_ind_0'\n",
              "            style='display: inline; background: rgba(np.float64(54.70588235294111), np.float64(122.49411764705886), np.float64(213.40784313725496), np.float64(0.0)); border-radius: 3px; padding: 0px'\n",
              "            onclick=\"\n",
              "            if (this.previousSibling.style.display == 'none') {\n",
              "                this.previousSibling.style.display = 'block';\n",
              "                this.parentNode.style.display = 'inline-block';\n",
              "            } else {\n",
              "                this.previousSibling.style.display = 'none';\n",
              "                this.parentNode.style.display = 'inline';\n",
              "            }\"\n",
              "            onmouseover=\"document.getElementById('_fb_usieyiccwpusnzjovqwp_ind_0').style.opacity = 1; document.getElementById('_fs_usieyiccwpusnzjovqwp_ind_0').style.opacity = 1;\"\n",
              "            onmouseout=\"document.getElementById('_fb_usieyiccwpusnzjovqwp_ind_0').style.opacity = 0; document.getElementById('_fs_usieyiccwpusnzjovqwp_ind_0').style.opacity = 0;\"\n",
              "        ></div></div><div style='display: inline; text-align: center;'\n",
              "    ><div style='display: none; color: #999; padding-top: 0px; font-size: 12px;'>-0.174</div\n",
              "        ><div id='_tp_usieyiccwpusnzjovqwp_ind_1'\n",
              "            style='display: inline; background: rgba(np.float64(30.0), np.float64(136.0), np.float64(229.0), np.float64(1.0)); border-radius: 3px; padding: 0px'\n",
              "            onclick=\"\n",
              "            if (this.previousSibling.style.display == 'none') {\n",
              "                this.previousSibling.style.display = 'block';\n",
              "                this.parentNode.style.display = 'inline-block';\n",
              "            } else {\n",
              "                this.previousSibling.style.display = 'none';\n",
              "                this.parentNode.style.display = 'inline';\n",
              "            }\"\n",
              "            onmouseover=\"document.getElementById('_fb_usieyiccwpusnzjovqwp_ind_1').style.opacity = 1; document.getElementById('_fs_usieyiccwpusnzjovqwp_ind_1').style.opacity = 1;\"\n",
              "            onmouseout=\"document.getElementById('_fb_usieyiccwpusnzjovqwp_ind_1').style.opacity = 0; document.getElementById('_fs_usieyiccwpusnzjovqwp_ind_1').style.opacity = 0;\"\n",
              "        >input</div></div><div style='display: inline; text-align: center;'\n",
              "    ><div style='display: none; color: #999; padding-top: 0px; font-size: 12px;'>-0.082</div\n",
              "        ><div id='_tp_usieyiccwpusnzjovqwp_ind_2'\n",
              "            style='display: inline; background: rgba(np.float64(30.0), np.float64(136.0), np.float64(229.0), np.float64(0.47185581303228363)); border-radius: 3px; padding: 0px'\n",
              "            onclick=\"\n",
              "            if (this.previousSibling.style.display == 'none') {\n",
              "                this.previousSibling.style.display = 'block';\n",
              "                this.parentNode.style.display = 'inline-block';\n",
              "            } else {\n",
              "                this.previousSibling.style.display = 'none';\n",
              "                this.parentNode.style.display = 'inline';\n",
              "            }\"\n",
              "            onmouseover=\"document.getElementById('_fb_usieyiccwpusnzjovqwp_ind_2').style.opacity = 1; document.getElementById('_fs_usieyiccwpusnzjovqwp_ind_2').style.opacity = 1;\"\n",
              "            onmouseout=\"document.getElementById('_fb_usieyiccwpusnzjovqwp_ind_2').style.opacity = 0; document.getElementById('_fs_usieyiccwpusnzjovqwp_ind_2').style.opacity = 0;\"\n",
              "        >_</div></div><div style='display: inline; text-align: center;'\n",
              "    ><div style='display: none; color: #999; padding-top: 0px; font-size: 12px;'>-0.048</div\n",
              "        ><div id='_tp_usieyiccwpusnzjovqwp_ind_3'\n",
              "            style='display: inline; background: rgba(np.float64(30.0), np.float64(136.0), np.float64(229.0), np.float64(0.27478708655179246)); border-radius: 3px; padding: 0px'\n",
              "            onclick=\"\n",
              "            if (this.previousSibling.style.display == 'none') {\n",
              "                this.previousSibling.style.display = 'block';\n",
              "                this.parentNode.style.display = 'inline-block';\n",
              "            } else {\n",
              "                this.previousSibling.style.display = 'none';\n",
              "                this.parentNode.style.display = 'inline';\n",
              "            }\"\n",
              "            onmouseover=\"document.getElementById('_fb_usieyiccwpusnzjovqwp_ind_3').style.opacity = 1; document.getElementById('_fs_usieyiccwpusnzjovqwp_ind_3').style.opacity = 1;\"\n",
              "            onmouseout=\"document.getElementById('_fb_usieyiccwpusnzjovqwp_ind_3').style.opacity = 0; document.getElementById('_fs_usieyiccwpusnzjovqwp_ind_3').style.opacity = 0;\"\n",
              "        >id</div></div><div style='display: inline; text-align: center;'\n",
              "    ><div style='display: none; color: #999; padding-top: 0px; font-size: 12px;'>-0.101</div\n",
              "        ><div id='_tp_usieyiccwpusnzjovqwp_ind_4'\n",
              "            style='display: inline; background: rgba(np.float64(30.0), np.float64(136.0), np.float64(229.0), np.float64(0.5822142998613588)); border-radius: 3px; padding: 0px'\n",
              "            onclick=\"\n",
              "            if (this.previousSibling.style.display == 'none') {\n",
              "                this.previousSibling.style.display = 'block';\n",
              "                this.parentNode.style.display = 'inline-block';\n",
              "            } else {\n",
              "                this.previousSibling.style.display = 'none';\n",
              "                this.parentNode.style.display = 'inline';\n",
              "            }\"\n",
              "            onmouseover=\"document.getElementById('_fb_usieyiccwpusnzjovqwp_ind_4').style.opacity = 1; document.getElementById('_fs_usieyiccwpusnzjovqwp_ind_4').style.opacity = 1;\"\n",
              "            onmouseout=\"document.getElementById('_fb_usieyiccwpusnzjovqwp_ind_4').style.opacity = 0; document.getElementById('_fs_usieyiccwpusnzjovqwp_ind_4').style.opacity = 0;\"\n",
              "        >s</div></div><div style='display: inline; text-align: center;'\n",
              "    ><div style='display: none; color: #999; padding-top: 0px; font-size: 12px;'>-0.0</div\n",
              "        ><div id='_tp_usieyiccwpusnzjovqwp_ind_5'\n",
              "            style='display: inline; background: rgba(np.float64(54.70588235294111), np.float64(122.49411764705886), np.float64(213.40784313725496), np.float64(0.0)); border-radius: 3px; padding: 0px'\n",
              "            onclick=\"\n",
              "            if (this.previousSibling.style.display == 'none') {\n",
              "                this.previousSibling.style.display = 'block';\n",
              "                this.parentNode.style.display = 'inline-block';\n",
              "            } else {\n",
              "                this.previousSibling.style.display = 'none';\n",
              "                this.parentNode.style.display = 'inline';\n",
              "            }\"\n",
              "            onmouseover=\"document.getElementById('_fb_usieyiccwpusnzjovqwp_ind_5').style.opacity = 1; document.getElementById('_fs_usieyiccwpusnzjovqwp_ind_5').style.opacity = 1;\"\n",
              "            onmouseout=\"document.getElementById('_fb_usieyiccwpusnzjovqwp_ind_5').style.opacity = 0; document.getElementById('_fs_usieyiccwpusnzjovqwp_ind_5').style.opacity = 0;\"\n",
              "        ></div></div></div>"
            ]
          },
          "metadata": {}
        },
        {
          "output_type": "display_data",
          "data": {
            "text/plain": [
              "<Figure size 2000x600 with 1 Axes>"
            ],
            "image/png": "[encoded data removed]"
          },
          "metadata": {}
        },
        {
          "output_type": "stream",
          "name": "stdout",
          "text": [
            "Log: data TLB error interrupt\n",
            "Predicted as: KERNDTLB\n",
            "Top contributing tokens:\n",
            "Error analyzing token contributions: too many indices for array: array is 1-dimensional, but 3 were indexed\n",
            "Unable to show token contributions\n",
            "\n",
            "\n",
            "SHAP values shape: (2, None, 11)\n"
          ]
        },
        {
          "output_type": "display_data",
          "data": {
            "text/plain": [
              "<IPython.core.display.HTML object>"
            ],
            "text/html": [
              "<svg width=\"100%\" height=\"80px\"><line x1=\"0\" y1=\"33\" x2=\"100%\" y2=\"33\" style=\"stroke:rgb(150,150,150);stroke-width:1\" /><line x1=\"52.01231917113688%\" y1=\"33\" x2=\"52.01231917113688%\" y2=\"37\" style=\"stroke:rgb(150,150,150);stroke-width:1\" /><text x=\"52.01231917113688%\" y=\"27\" font-size=\"12px\" fill=\"rgb(120,120,120)\" dominant-baseline=\"bottom\" text-anchor=\"middle\">-0.11</text><line x1=\"39.12675149809228%\" y1=\"33\" x2=\"39.12675149809228%\" y2=\"37\" style=\"stroke:rgb(150,150,150);stroke-width:1\" /><text x=\"39.12675149809228%\" y=\"27\" font-size=\"12px\" fill=\"rgb(120,120,120)\" dominant-baseline=\"bottom\" text-anchor=\"middle\">-0.14</text><line x1=\"26.241183825047706%\" y1=\"33\" x2=\"26.241183825047706%\" y2=\"37\" style=\"stroke:rgb(150,150,150);stroke-width:1\" /><text x=\"26.241183825047706%\" y=\"27\" font-size=\"12px\" fill=\"rgb(120,120,120)\" dominant-baseline=\"bottom\" text-anchor=\"middle\">-0.17</text><line x1=\"13.355616152003103%\" y1=\"33\" x2=\"13.355616152003103%\" y2=\"37\" style=\"stroke:rgb(150,150,150);stroke-width:1\" /><text x=\"13.355616152003103%\" y=\"27\" font-size=\"12px\" fill=\"rgb(120,120,120)\" dominant-baseline=\"bottom\" text-anchor=\"middle\">-0.2</text><line x1=\"64.89788684418147%\" y1=\"33\" x2=\"64.89788684418147%\" y2=\"37\" style=\"stroke:rgb(150,150,150);stroke-width:1\" /><text x=\"64.89788684418147%\" y=\"27\" font-size=\"12px\" fill=\"rgb(120,120,120)\" dominant-baseline=\"bottom\" text-anchor=\"middle\">-0.08</text><line x1=\"77.78345451722606%\" y1=\"33\" x2=\"77.78345451722606%\" y2=\"37\" style=\"stroke:rgb(150,150,150);stroke-width:1\" /><text x=\"77.78345451722606%\" y=\"27\" font-size=\"12px\" fill=\"rgb(120,120,120)\" dominant-baseline=\"bottom\" text-anchor=\"middle\">-0.05</text><line x1=\"90.66902219027065%\" y1=\"33\" x2=\"90.66902219027065%\" y2=\"37\" style=\"stroke:rgb(150,150,150);stroke-width:1\" /><text x=\"90.66902219027065%\" y=\"27\" font-size=\"12px\" fill=\"rgb(120,120,120)\" dominant-baseline=\"bottom\" text-anchor=\"middle\">-0.02</text><line x1=\"91.65683182145621%\" y1=\"33\" x2=\"91.65683182145621%\" y2=\"37\" style=\"stroke:rgb(150,150,150);stroke-width:1\" /><text x=\"91.65683182145621%\" y=\"27\" font-size=\"13px\" style=\"stroke:#ffffff;stroke-width:8px;\" fill=\"rgb(255,255,255)\" dominant-baseline=\"bottom\" text-anchor=\"middle\">-0.0177002</text><text x=\"91.65683182145621%\" y=\"27\" font-size=\"12px\" fill=\"rgb(120,120,120)\" dominant-baseline=\"bottom\" text-anchor=\"middle\">-0.0177002</text><text x=\"91.65683182145621%\" y=\"10\" font-size=\"12px\" fill=\"rgb(120,120,120)\" dominant-baseline=\"bottom\" text-anchor=\"middle\">base value</text><line x1=\"8.343163883354576%\" y1=\"33\" x2=\"8.343163883354576%\" y2=\"37\" style=\"stroke:rgb(150,150,150);stroke-width:1\" /><text x=\"8.343163883354576%\" y=\"27\" font-size=\"13px\" style=\"stroke:#ffffff;stroke-width:8px;\" font-weight=\"bold\" fill=\"rgb(255,255,255)\" dominant-baseline=\"bottom\" text-anchor=\"middle\">-0.21167</text><text x=\"8.343163883354576%\" y=\"27\" font-size=\"13px\" font-weight=\"bold\" fill=\"rgb(0,0,0)\" dominant-baseline=\"bottom\" text-anchor=\"middle\">-0.21167</text><text x=\"8.343163883354576%\" y=\"10\" font-size=\"12px\" fill=\"rgb(120,120,120)\" dominant-baseline=\"bottom\" text-anchor=\"middle\">f<tspan baseline-shift=\"sub\" font-size=\"8px\">Output 2</tspan>(inputs)</text><rect x=\"8.333332975400898%\" width=\"0.009830907953677819%\" y=\"40\" height=\"18\" style=\"fill:rgb(np.float64(255.0), np.float64(0.0), np.float64(81.08083606031792)); stroke-width:0; stroke:rgb(0,0,0)\" /><line x1=\"8.333332975400898%\" x2=\"8.343163883354576%\" y1=\"60\" y2=\"60\" id=\"_fb_sbfhcgchqjjfgyqpesej_ind_0\" style=\"stroke:rgb(np.float64(255.0), np.float64(0.0), np.float64(81.08083606031792));stroke-width:2; opacity: 0\"/><text x=\"8.338248429377737%\" y=\"71\" font-size=\"12px\" id=\"_fs_sbfhcgchqjjfgyqpesej_ind_0\" fill=\"rgb(np.float64(255.0), np.float64(0.0), np.float64(81.08083606031792))\" style=\"opacity: 0\" dominant-baseline=\"middle\" text-anchor=\"middle\">0.0</text><svg x=\"8.333332975400898%\" y=\"40\" height=\"20\" width=\"0.009830907953677581%\">  <svg x=\"0\" y=\"0\" width=\"100%\" height=\"100%\">    <text x=\"50%\" y=\"9\" font-size=\"12px\" fill=\"rgb(255,255,255)\" dominant-baseline=\"middle\" text-anchor=\"middle\"></text>  </svg></svg><rect transform=\"translate(-8,0)\" x=\"8.343163883354576%\" y=\"40\" width=\"8\" height=\"18\" style=\"fill:rgb(np.float64(255.0), np.float64(0.0), np.float64(81.08083606031792))\"/><g transform=\"translate(-11.5,0)\">  <svg x=\"8.333332975400898%\" y=\"40\" height=\"18\" overflow=\"visible\" width=\"30\">    <path d=\"M 10 -9 l 6 18 L 10 25 L 0 25 L 0 -9\" fill=\"#ffffff\" style=\"stroke:rgb(255,255,255);stroke-width:2\" />  </svg></g><rect x=\"8.333332975400898%\" y=\"40\" height=\"20\" width=\"0.009830907953677581%\"      onmouseover=\"document.getElementById('_tp_sbfhcgchqjjfgyqpesej_ind_0').style.textDecoration = 'underline';document.getElementById('_fs_sbfhcgchqjjfgyqpesej_ind_0').style.opacity = 1;document.getElementById('_fb_sbfhcgchqjjfgyqpesej_ind_0').style.opacity = 1;\"      onmouseout=\"document.getElementById('_tp_sbfhcgchqjjfgyqpesej_ind_0').style.textDecoration = 'none';document.getElementById('_fs_sbfhcgchqjjfgyqpesej_ind_0').style.opacity = 0;document.getElementById('_fb_sbfhcgchqjjfgyqpesej_ind_0').style.opacity = 0;\" style=\"fill:rgb(0,0,0,0)\" /><rect x=\"8.343163883354576%\" width=\"83.3234988460553%\" y=\"40\" height=\"18\" style=\"fill:rgb(np.float64(0.0), np.float64(138.56128015770727), np.float64(250.76166088685727)); stroke-width:0; stroke:rgb(0,0,0)\" /><line x1=\"8.343163883354576%\" x2=\"48.07313989348454%\" y1=\"60\" y2=\"60\" id=\"_fb_sbfhcgchqjjfgyqpesej_ind_2\" style=\"stroke:rgb(np.float64(0.0), np.float64(138.56128015770727), np.float64(250.76166088685727));stroke-width:2; opacity: 0\"/><text x=\"28.208151888419557%\" y=\"71\" font-size=\"12px\" fill=\"rgb(np.float64(0.0), np.float64(138.56128015770727), np.float64(250.76166088685727))\" id=\"_fs_sbfhcgchqjjfgyqpesej_ind_2\" style=\"opacity: 0\" dominant-baseline=\"middle\" text-anchor=\"middle\">-0.092</text><svg x=\"8.343163883354576%\" y=\"40\" height=\"20\" width=\"39.72997601012996%\">  <svg x=\"0\" y=\"0\" width=\"100%\" height=\"100%\">    <text x=\"50%\" y=\"9\" font-size=\"12px\" fill=\"rgb(255,255,255)\" dominant-baseline=\"middle\" text-anchor=\"middle\">_</text>  </svg></svg><line x1=\"48.07313989348454%\" x2=\"79.65329321001559%\" y1=\"60\" y2=\"60\" id=\"_fb_sbfhcgchqjjfgyqpesej_ind_1\" style=\"stroke:rgb(np.float64(0.0), np.float64(138.56128015770727), np.float64(250.76166088685727));stroke-width:2; opacity: 0\"/><text x=\"63.863216551750064%\" y=\"71\" font-size=\"12px\" fill=\"rgb(np.float64(0.0), np.float64(138.56128015770727), np.float64(250.76166088685727))\" id=\"_fs_sbfhcgchqjjfgyqpesej_ind_1\" style=\"opacity: 0\" dominant-baseline=\"middle\" text-anchor=\"middle\">-0.074</text><svg x=\"48.07313989348454%\" y=\"40\" height=\"20\" width=\"31.580153316531053%\">  <svg x=\"0\" y=\"0\" width=\"100%\" height=\"100%\">    <text x=\"50%\" y=\"9\" font-size=\"12px\" fill=\"rgb(255,255,255)\" dominant-baseline=\"middle\" text-anchor=\"middle\">attention</text>  </svg></svg><line x1=\"79.65329321001559%\" x2=\"91.66420500242145%\" y1=\"60\" y2=\"60\" id=\"_fb_sbfhcgchqjjfgyqpesej_ind_3\" style=\"stroke:rgb(np.float64(0.0), np.float64(138.56128015770727), np.float64(250.76166088685727));stroke-width:2; opacity: 0\"/><text x=\"85.65874910621852%\" y=\"71\" font-size=\"12px\" fill=\"rgb(np.float64(0.0), np.float64(138.56128015770727), np.float64(250.76166088685727))\" id=\"_fs_sbfhcgchqjjfgyqpesej_ind_3\" style=\"opacity: 0\" dominant-baseline=\"middle\" text-anchor=\"middle\">-0.028</text><svg x=\"79.65329321001559%\" y=\"40\" height=\"20\" width=\"12.010911792405864%\">  <svg x=\"0\" y=\"0\" width=\"100%\" height=\"100%\">    <text x=\"50%\" y=\"9\" font-size=\"12px\" fill=\"rgb(255,255,255)\" dominant-baseline=\"middle\" text-anchor=\"middle\">mask</text>  </svg></svg><line x1=\"91.66420500242145%\" x2=\"91.66666272940988%\" y1=\"60\" y2=\"60\" id=\"_fb_sbfhcgchqjjfgyqpesej_ind_4\" style=\"stroke:rgb(np.float64(0.0), np.float64(138.56128015770727), np.float64(250.76166088685727));stroke-width:2; opacity: 0\"/><text x=\"91.66543386591567%\" y=\"71\" font-size=\"12px\" fill=\"rgb(np.float64(0.0), np.float64(138.56128015770727), np.float64(250.76166088685727))\" id=\"_fs_sbfhcgchqjjfgyqpesej_ind_4\" style=\"opacity: 0\" dominant-baseline=\"middle\" text-anchor=\"middle\">-0.0</text><svg x=\"91.66420500242145%\" y=\"40\" height=\"20\" width=\"0.0024577269884247244%\">  <svg x=\"0\" y=\"0\" width=\"100%\" height=\"100%\">    <text x=\"50%\" y=\"9\" font-size=\"12px\" fill=\"rgb(255,255,255)\" dominant-baseline=\"middle\" text-anchor=\"middle\"></text>  </svg></svg><g transform=\"translate(-8,0)\">  <svg x=\"48.07313989348454%\" y=\"40\" height=\"18\" overflow=\"visible\" width=\"30\">    <path d=\"M 8 -9 l -6 18 L 8 25\" fill=\"none\" style=\"stroke:rgb(np.float64(0.0), np.float64(138.56128015770727), np.float64(250.76166088685727));stroke-width:2\" />  </svg></g><g transform=\"translate(-10,0)\">  <svg x=\"48.07313989348454%\" y=\"40\" height=\"18\" overflow=\"visible\" width=\"30\">    <path d=\"M 8 -9 l -6 18 L 8 25\" fill=\"none\" style=\"stroke:rgb(np.float64(0.0), np.float64(138.56128015770727), np.float64(250.76166088685727));stroke-width:2\" />  </svg></g><g transform=\"translate(-12,0)\">  <svg x=\"48.07313989348454%\" y=\"40\" height=\"18\" overflow=\"visible\" width=\"30\">    <path d=\"M 8 -9 l -6 18 L 8 25\" fill=\"none\" style=\"stroke:rgb(np.float64(0.0), np.float64(138.56128015770727), np.float64(250.76166088685727));stroke-width:2\" />  </svg></g><g transform=\"translate(-14,0)\">  <svg x=\"48.07313989348454%\" y=\"40\" height=\"18\" overflow=\"visible\" width=\"30\">    <path d=\"M 8 -9 l -6 18 L 8 25\" fill=\"none\" style=\"stroke:rgb(np.float64(0.0), np.float64(138.56128015770727), np.float64(250.76166088685727));stroke-width:2\" />  </svg></g><g transform=\"translate(2,0)\">  <svg x=\"48.07313989348454%\" y=\"40\" height=\"18\" overflow=\"visible\" width=\"30\">    <path d=\"M 8 -9 l -6 18 L 8 25\" fill=\"none\" style=\"stroke:rgb(np.float64(0.0), np.float64(138.56128015770727), np.float64(250.76166088685727));stroke-width:2\" />  </svg></g><g transform=\"translate(0,0)\">  <svg x=\"48.07313989348454%\" y=\"40\" height=\"18\" overflow=\"visible\" width=\"30\">    <path d=\"M 8 -9 l -6 18 L 8 25\" fill=\"none\" style=\"stroke:rgb(np.float64(0.0), np.float64(138.56128015770727), np.float64(250.76166088685727));stroke-width:2\" />  </svg></g><g transform=\"translate(-2,0)\">  <svg x=\"48.07313989348454%\" y=\"40\" height=\"18\" overflow=\"visible\" width=\"30\">    <path d=\"M 8 -9 l -6 18 L 8 25\" fill=\"none\" style=\"stroke:rgb(np.float64(0.0), np.float64(138.56128015770727), np.float64(250.76166088685727));stroke-width:2\" />  </svg></g><g transform=\"translate(-4,0)\">  <svg x=\"48.07313989348454%\" y=\"40\" height=\"18\" overflow=\"visible\" width=\"30\">    <path d=\"M 8 -9 l -6 18 L 8 25\" fill=\"none\" style=\"stroke:rgb(np.float64(0.0), np.float64(138.56128015770727), np.float64(250.76166088685727));stroke-width:2\" />  </svg></g><g transform=\"translate(-8,0)\">  <svg x=\"79.65329321001559%\" y=\"40\" height=\"18\" overflow=\"visible\" width=\"30\">    <path d=\"M 8 -9 l -6 18 L 8 25\" fill=\"none\" style=\"stroke:rgb(np.float64(0.0), np.float64(138.56128015770727), np.float64(250.76166088685727));stroke-width:2\" />  </svg></g><g transform=\"translate(-10,0)\">  <svg x=\"79.65329321001559%\" y=\"40\" height=\"18\" overflow=\"visible\" width=\"30\">    <path d=\"M 8 -9 l -6 18 L 8 25\" fill=\"none\" style=\"stroke:rgb(np.float64(0.0), np.float64(138.56128015770727), np.float64(250.76166088685727));stroke-width:2\" />  </svg></g><g transform=\"translate(-12,0)\">  <svg x=\"79.65329321001559%\" y=\"40\" height=\"18\" overflow=\"visible\" width=\"30\">    <path d=\"M 8 -9 l -6 18 L 8 25\" fill=\"none\" style=\"stroke:rgb(np.float64(0.0), np.float64(138.56128015770727), np.float64(250.76166088685727));stroke-width:2\" />  </svg></g><g transform=\"translate(-14,0)\">  <svg x=\"79.65329321001559%\" y=\"40\" height=\"18\" overflow=\"visible\" width=\"30\">    <path d=\"M 8 -9 l -6 18 L 8 25\" fill=\"none\" style=\"stroke:rgb(np.float64(0.0), np.float64(138.56128015770727), np.float64(250.76166088685727));stroke-width:2\" />  </svg></g><g transform=\"translate(2,0)\">  <svg x=\"79.65329321001559%\" y=\"40\" height=\"18\" overflow=\"visible\" width=\"30\">    <path d=\"M 8 -9 l -6 18 L 8 25\" fill=\"none\" style=\"stroke:rgb(np.float64(0.0), np.float64(138.56128015770727), np.float64(250.76166088685727));stroke-width:2\" />  </svg></g><g transform=\"translate(0,0)\">  <svg x=\"79.65329321001559%\" y=\"40\" height=\"18\" overflow=\"visible\" width=\"30\">    <path d=\"M 8 -9 l -6 18 L 8 25\" fill=\"none\" style=\"stroke:rgb(np.float64(0.0), np.float64(138.56128015770727), np.float64(250.76166088685727));stroke-width:2\" />  </svg></g><g transform=\"translate(-2,0)\">  <svg x=\"79.65329321001559%\" y=\"40\" height=\"18\" overflow=\"visible\" width=\"30\">    <path d=\"M 8 -9 l -6 18 L 8 25\" fill=\"none\" style=\"stroke:rgb(np.float64(0.0), np.float64(138.56128015770727), np.float64(250.76166088685727));stroke-width:2\" />  </svg></g><g transform=\"translate(-4,0)\">  <svg x=\"79.65329321001559%\" y=\"40\" height=\"18\" overflow=\"visible\" width=\"30\">    <path d=\"M 8 -9 l -6 18 L 8 25\" fill=\"none\" style=\"stroke:rgb(np.float64(0.0), np.float64(138.56128015770727), np.float64(250.76166088685727));stroke-width:2\" />  </svg></g><g transform=\"translate(-8,0)\">  <svg x=\"91.66420500242145%\" y=\"40\" height=\"18\" overflow=\"visible\" width=\"30\">    <path d=\"M 8 -9 l -6 18 L 8 25\" fill=\"none\" style=\"stroke:rgb(np.float64(0.0), np.float64(138.56128015770727), np.float64(250.76166088685727));stroke-width:2\" />  </svg></g><g transform=\"translate(-10,0)\">  <svg x=\"91.66420500242145%\" y=\"40\" height=\"18\" overflow=\"visible\" width=\"30\">    <path d=\"M 8 -9 l -6 18 L 8 25\" fill=\"none\" style=\"stroke:rgb(np.float64(0.0), np.float64(138.56128015770727), np.float64(250.76166088685727));stroke-width:2\" />  </svg></g><g transform=\"translate(-12,0)\">  <svg x=\"91.66420500242145%\" y=\"40\" height=\"18\" overflow=\"visible\" width=\"30\">    <path d=\"M 8 -9 l -6 18 L 8 25\" fill=\"none\" style=\"stroke:rgb(np.float64(0.0), np.float64(138.56128015770727), np.float64(250.76166088685727));stroke-width:2\" />  </svg></g><g transform=\"translate(-14,0)\">  <svg x=\"91.66420500242145%\" y=\"40\" height=\"18\" overflow=\"visible\" width=\"30\">    <path d=\"M 8 -9 l -6 18 L 8 25\" fill=\"none\" style=\"stroke:rgb(np.float64(0.0), np.float64(138.56128015770727), np.float64(250.76166088685727));stroke-width:2\" />  </svg></g><g transform=\"translate(2,0)\">  <svg x=\"91.66420500242145%\" y=\"40\" height=\"18\" overflow=\"visible\" width=\"30\">    <path d=\"M 8 -9 l -6 18 L 8 25\" fill=\"none\" style=\"stroke:rgb(np.float64(0.0), np.float64(138.56128015770727), np.float64(250.76166088685727));stroke-width:2\" />  </svg></g><g transform=\"translate(0,0)\">  <svg x=\"91.66420500242145%\" y=\"40\" height=\"18\" overflow=\"visible\" width=\"30\">    <path d=\"M 8 -9 l -6 18 L 8 25\" fill=\"none\" style=\"stroke:rgb(np.float64(0.0), np.float64(138.56128015770727), np.float64(250.76166088685727));stroke-width:2\" />  </svg></g><g transform=\"translate(-2,0)\">  <svg x=\"91.66420500242145%\" y=\"40\" height=\"18\" overflow=\"visible\" width=\"30\">    <path d=\"M 8 -9 l -6 18 L 8 25\" fill=\"none\" style=\"stroke:rgb(np.float64(0.0), np.float64(138.56128015770727), np.float64(250.76166088685727));stroke-width:2\" />  </svg></g><g transform=\"translate(-4,0)\">  <svg x=\"91.66420500242145%\" y=\"40\" height=\"18\" overflow=\"visible\" width=\"30\">    <path d=\"M 8 -9 l -6 18 L 8 25\" fill=\"none\" style=\"stroke:rgb(np.float64(0.0), np.float64(138.56128015770727), np.float64(250.76166088685727));stroke-width:2\" />  </svg></g><rect transform=\"translate(0,0)\" x=\"8.343163883354576%\" y=\"40\" width=\"8\" height=\"18\" style=\"fill:rgb(np.float64(0.0), np.float64(138.56128015770727), np.float64(250.76166088685727))\"/><g transform=\"translate(-6.0,0)\">  <svg x=\"91.66666272940988%\" y=\"40\" height=\"18\" overflow=\"visible\" width=\"30\">    <path d=\"M 8 -9 l -6 18 L 8 25 L 20 25 L 20 -9\" fill=\"#ffffff\" style=\"stroke:rgb(255,255,255);stroke-width:2\" />  </svg></g><g transform=\"translate(-6.0,0)\">  <svg x=\"48.07313989348454%\" y=\"40\" height=\"18\" overflow=\"visible\" width=\"30\">    <path d=\"M 8 -9 l -6 18 L 8 25\" fill=\"none\" style=\"stroke:rgb(208, 230, 250);stroke-width:2\" />  </svg></g><rect x=\"8.343163883354576%\" y=\"40\" height=\"20\" width=\"39.72997601012996%\"      onmouseover=\"document.getElementById('_tp_sbfhcgchqjjfgyqpesej_ind_2').style.textDecoration = 'underline';document.getElementById('_fs_sbfhcgchqjjfgyqpesej_ind_2').style.opacity = 1;document.getElementById('_fb_sbfhcgchqjjfgyqpesej_ind_2').style.opacity = 1;\"      onmouseout=\"document.getElementById('_tp_sbfhcgchqjjfgyqpesej_ind_2').style.textDecoration = 'none';document.getElementById('_fs_sbfhcgchqjjfgyqpesej_ind_2').style.opacity = 0;document.getElementById('_fb_sbfhcgchqjjfgyqpesej_ind_2').style.opacity = 0;\" style=\"fill:rgb(0,0,0,0)\" /><g transform=\"translate(-6.0,0)\">  <svg x=\"79.65329321001559%\" y=\"40\" height=\"18\" overflow=\"visible\" width=\"30\">    <path d=\"M 8 -9 l -6 18 L 8 25\" fill=\"none\" style=\"stroke:rgb(208, 230, 250);stroke-width:2\" />  </svg></g><rect x=\"48.07313989348454%\" y=\"40\" height=\"20\" width=\"31.580153316531053%\"      onmouseover=\"document.getElementById('_tp_sbfhcgchqjjfgyqpesej_ind_1').style.textDecoration = 'underline';document.getElementById('_fs_sbfhcgchqjjfgyqpesej_ind_1').style.opacity = 1;document.getElementById('_fb_sbfhcgchqjjfgyqpesej_ind_1').style.opacity = 1;\"      onmouseout=\"document.getElementById('_tp_sbfhcgchqjjfgyqpesej_ind_1').style.textDecoration = 'none';document.getElementById('_fs_sbfhcgchqjjfgyqpesej_ind_1').style.opacity = 0;document.getElementById('_fb_sbfhcgchqjjfgyqpesej_ind_1').style.opacity = 0;\" style=\"fill:rgb(0,0,0,0)\" /><g transform=\"translate(-6.0,0)\">  <svg x=\"91.66420500242145%\" y=\"40\" height=\"18\" overflow=\"visible\" width=\"30\">    <path d=\"M 8 -9 l -6 18 L 8 25\" fill=\"none\" style=\"stroke:rgb(208, 230, 250);stroke-width:2\" />  </svg></g><rect x=\"79.65329321001559%\" y=\"40\" height=\"20\" width=\"12.010911792405864%\"      onmouseover=\"document.getElementById('_tp_sbfhcgchqjjfgyqpesej_ind_3').style.textDecoration = 'underline';document.getElementById('_fs_sbfhcgchqjjfgyqpesej_ind_3').style.opacity = 1;document.getElementById('_fb_sbfhcgchqjjfgyqpesej_ind_3').style.opacity = 1;\"      onmouseout=\"document.getElementById('_tp_sbfhcgchqjjfgyqpesej_ind_3').style.textDecoration = 'none';document.getElementById('_fs_sbfhcgchqjjfgyqpesej_ind_3').style.opacity = 0;document.getElementById('_fb_sbfhcgchqjjfgyqpesej_ind_3').style.opacity = 0;\" style=\"fill:rgb(0,0,0,0)\" /><rect x=\"91.66420500242145%\" y=\"40\" height=\"20\" width=\"0.0024577269884247244%\"      onmouseover=\"document.getElementById('_tp_sbfhcgchqjjfgyqpesej_ind_4').style.textDecoration = 'underline';document.getElementById('_fs_sbfhcgchqjjfgyqpesej_ind_4').style.opacity = 1;document.getElementById('_fb_sbfhcgchqjjfgyqpesej_ind_4').style.opacity = 1;\"      onmouseout=\"document.getElementById('_tp_sbfhcgchqjjfgyqpesej_ind_4').style.textDecoration = 'none';document.getElementById('_fs_sbfhcgchqjjfgyqpesej_ind_4').style.opacity = 0;document.getElementById('_fb_sbfhcgchqjjfgyqpesej_ind_4').style.opacity = 0;\" style=\"fill:rgb(0,0,0,0)\" /></svg><div align='center'><div style=\"color: rgb(120,120,120); font-size: 12px; margin-top: -15px;\">inputs</div><div style='display: inline; text-align: center;'\n",
              "    ><div style='display: none; color: #999; padding-top: 0px; font-size: 12px;'>0.0</div\n",
              "        ><div id='_tp_sbfhcgchqjjfgyqpesej_ind_0'\n",
              "            style='display: inline; background: rgba(np.float64(230.2941176470614), np.float64(26.505882352939775), np.float64(102.59215686274348), np.float64(0.0)); border-radius: 3px; padding: 0px'\n",
              "            onclick=\"\n",
              "            if (this.previousSibling.style.display == 'none') {\n",
              "                this.previousSibling.style.display = 'block';\n",
              "                this.parentNode.style.display = 'inline-block';\n",
              "            } else {\n",
              "                this.previousSibling.style.display = 'none';\n",
              "                this.parentNode.style.display = 'inline';\n",
              "            }\"\n",
              "            onmouseover=\"document.getElementById('_fb_sbfhcgchqjjfgyqpesej_ind_0').style.opacity = 1; document.getElementById('_fs_sbfhcgchqjjfgyqpesej_ind_0').style.opacity = 1;\"\n",
              "            onmouseout=\"document.getElementById('_fb_sbfhcgchqjjfgyqpesej_ind_0').style.opacity = 0; document.getElementById('_fs_sbfhcgchqjjfgyqpesej_ind_0').style.opacity = 0;\"\n",
              "        ></div></div><div style='display: inline; text-align: center;'\n",
              "    ><div style='display: none; color: #999; padding-top: 0px; font-size: 12px;'>-0.074</div\n",
              "        ><div id='_tp_sbfhcgchqjjfgyqpesej_ind_1'\n",
              "            style='display: inline; background: rgba(np.float64(30.0), np.float64(136.0), np.float64(229.0), np.float64(0.7950485244602892)); border-radius: 3px; padding: 0px'\n",
              "            onclick=\"\n",
              "            if (this.previousSibling.style.display == 'none') {\n",
              "                this.previousSibling.style.display = 'block';\n",
              "                this.parentNode.style.display = 'inline-block';\n",
              "            } else {\n",
              "                this.previousSibling.style.display = 'none';\n",
              "                this.parentNode.style.display = 'inline';\n",
              "            }\"\n",
              "            onmouseover=\"document.getElementById('_fb_sbfhcgchqjjfgyqpesej_ind_1').style.opacity = 1; document.getElementById('_fs_sbfhcgchqjjfgyqpesej_ind_1').style.opacity = 1;\"\n",
              "            onmouseout=\"document.getElementById('_fb_sbfhcgchqjjfgyqpesej_ind_1').style.opacity = 0; document.getElementById('_fs_sbfhcgchqjjfgyqpesej_ind_1').style.opacity = 0;\"\n",
              "        >attention</div></div><div style='display: inline; text-align: center;'\n",
              "    ><div style='display: none; color: #999; padding-top: 0px; font-size: 12px;'>-0.092</div\n",
              "        ><div id='_tp_sbfhcgchqjjfgyqpesej_ind_2'\n",
              "            style='display: inline; background: rgba(np.float64(30.0), np.float64(136.0), np.float64(229.0), np.float64(1.0)); border-radius: 3px; padding: 0px'\n",
              "            onclick=\"\n",
              "            if (this.previousSibling.style.display == 'none') {\n",
              "                this.previousSibling.style.display = 'block';\n",
              "                this.parentNode.style.display = 'inline-block';\n",
              "            } else {\n",
              "                this.previousSibling.style.display = 'none';\n",
              "                this.parentNode.style.display = 'inline';\n",
              "            }\"\n",
              "            onmouseover=\"document.getElementById('_fb_sbfhcgchqjjfgyqpesej_ind_2').style.opacity = 1; document.getElementById('_fs_sbfhcgchqjjfgyqpesej_ind_2').style.opacity = 1;\"\n",
              "            onmouseout=\"document.getElementById('_fb_sbfhcgchqjjfgyqpesej_ind_2').style.opacity = 0; document.getElementById('_fs_sbfhcgchqjjfgyqpesej_ind_2').style.opacity = 0;\"\n",
              "        >_</div></div><div style='display: inline; text-align: center;'\n",
              "    ><div style='display: none; color: #999; padding-top: 0px; font-size: 12px;'>-0.028</div\n",
              "        ><div id='_tp_sbfhcgchqjjfgyqpesej_ind_3'\n",
              "            style='display: inline; background: rgba(np.float64(30.0), np.float64(136.0), np.float64(229.0), np.float64(0.2984353337294513)); border-radius: 3px; padding: 0px'\n",
              "            onclick=\"\n",
              "            if (this.previousSibling.style.display == 'none') {\n",
              "                this.previousSibling.style.display = 'block';\n",
              "                this.parentNode.style.display = 'inline-block';\n",
              "            } else {\n",
              "                this.previousSibling.style.display = 'none';\n",
              "                this.parentNode.style.display = 'inline';\n",
              "            }\"\n",
              "            onmouseover=\"document.getElementById('_fb_sbfhcgchqjjfgyqpesej_ind_3').style.opacity = 1; document.getElementById('_fs_sbfhcgchqjjfgyqpesej_ind_3').style.opacity = 1;\"\n",
              "            onmouseout=\"document.getElementById('_fb_sbfhcgchqjjfgyqpesej_ind_3').style.opacity = 0; document.getElementById('_fs_sbfhcgchqjjfgyqpesej_ind_3').style.opacity = 0;\"\n",
              "        >mask</div></div><div style='display: inline; text-align: center;'\n",
              "    ><div style='display: none; color: #999; padding-top: 0px; font-size: 12px;'>-0.0</div\n",
              "        ><div id='_tp_sbfhcgchqjjfgyqpesej_ind_4'\n",
              "            style='display: inline; background: rgba(np.float64(54.70588235294111), np.float64(122.49411764705886), np.float64(213.40784313725496), np.float64(0.0)); border-radius: 3px; padding: 0px'\n",
              "            onclick=\"\n",
              "            if (this.previousSibling.style.display == 'none') {\n",
              "                this.previousSibling.style.display = 'block';\n",
              "                this.parentNode.style.display = 'inline-block';\n",
              "            } else {\n",
              "                this.previousSibling.style.display = 'none';\n",
              "                this.parentNode.style.display = 'inline';\n",
              "            }\"\n",
              "            onmouseover=\"document.getElementById('_fb_sbfhcgchqjjfgyqpesej_ind_4').style.opacity = 1; document.getElementById('_fs_sbfhcgchqjjfgyqpesej_ind_4').style.opacity = 1;\"\n",
              "            onmouseout=\"document.getElementById('_fb_sbfhcgchqjjfgyqpesej_ind_4').style.opacity = 0; document.getElementById('_fs_sbfhcgchqjjfgyqpesej_ind_4').style.opacity = 0;\"\n",
              "        ></div></div></div>"
            ]
          },
          "metadata": {}
        },
        {
          "output_type": "display_data",
          "data": {
            "text/plain": [
              "<Figure size 2000x600 with 1 Axes>"
            ],
            "image/png": "[encoded data removed]"
          },
          "metadata": {}
        },
        {
          "output_type": "stream",
          "name": "stdout",
          "text": [
            "Log: data TLB error interrupt\n",
            "Predicted as: KERNDTLB\n",
            "Top contributing tokens:\n",
            "Error analyzing token contributions: too many indices for array: array is 1-dimensional, but 3 were indexed\n",
            "Unable to show token contributions\n",
            "\n",
            "\n"
          ]
        }
      ],
      "source": [
        "# Sample a few logs for explanation (first few anomaly logs)\n",
        "anomaly_indices = [i for i, pred in enumerate(sample_preds.argmax(dim=1).cpu().numpy()) if pred != 0]\n",
        "anomaly_indices = anomaly_indices[:5]  # Take first 5 anomaly predictions\n",
        "\n",
        "if anomaly_indices:\n",
        "    # Extract the anomaly samples\n",
        "    anomaly_samples = {k: v[anomaly_indices] for k, v in sample_encodings.items()}\n",
        "\n",
        "    # Get SHAP values\n",
        "    shap_values = explainer(anomaly_samples)\n",
        "\n",
        "    # Plot SHAP values for each prediction\n",
        "    for i, idx in enumerate(anomaly_indices):\n",
        "        plt.figure(figsize=(20, 6))\n",
        "\n",
        "        # Get the predicted class\n",
        "        pred_class = sample_preds[idx].argmax().item()\n",
        "        pred_label = list(label_map.keys())[pred_class]\n",
        "\n",
        "        # Get the original text\n",
        "        original_text = sample_texts[idx]\n",
        "\n",
        "        # Inspect the structure of shap_values and plot accordingly\n",
        "        print(f\"SHAP values shape: {shap_values.shape}\")\n",
        "\n",
        "        # Different plotting depending on the shape of shap_values\n",
        "        if hasattr(shap_values, 'values') and hasattr(shap_values, 'data'):\n",
        "            # Original expected structure\n",
        "            try:\n",
        "                shap.plots.text(shap_values[i, :, pred_class])\n",
        "            except:\n",
        "                print(\"Error with standard plotting, trying alternative format\")\n",
        "                shap.plots.text(shap_values)\n",
        "        else:\n",
        "            # Alternative structure\n",
        "            try:\n",
        "                # Try different ways to visualize based on the structure\n",
        "                if hasattr(shap_values, 'shape') and len(shap_values.shape) >= 3:\n",
        "                    # If it's a 3D array\n",
        "                    shap.plots.text(shap_values[i, :, pred_class])\n",
        "                elif hasattr(shap_values, 'shape') and len(shap_values.shape) == 2:\n",
        "                    # If it's a 2D array\n",
        "                    shap.plots.text(shap_values[i])\n",
        "                else:\n",
        "                    # Fallback\n",
        "                    shap.plots.text(shap_values)\n",
        "            except Exception as e:\n",
        "                print(f\"Error plotting SHAP values: {e}\")\n",
        "                print(\"Skipping visualization but continuing with analysis\")\n",
        "\n",
        "        plt.title(f\"SHAP values for log classified as {pred_label}\")\n",
        "        plt.tight_layout()\n",
        "        plt.savefig(f'shap_explanation_{i}.png')\n",
        "        plt.show()\n",
        "\n",
        "        # Print original text and explanation\n",
        "        print(f\"Log: {original_text}\")\n",
        "        print(f\"Predicted as: {pred_label}\")\n",
        "\n",
        "        # Display token contributions based on the structure of shap_values\n",
        "        print(\"Top contributing tokens:\")\n",
        "        try:\n",
        "            if hasattr(shap_values, 'values') and hasattr(shap_values, 'data'):\n",
        "                token_scores = list(zip(shap_values.data[i], shap_values.values[i, :, pred_class]))\n",
        "            elif hasattr(shap_values, 'base_values'):\n",
        "                # For newer SHAP versions\n",
        "                tokens = tokenizer.encode(original_text, truncation=True, max_length=128)\n",
        "                token_scores = [(token, score) for token, score in zip(tokens, shap_values[i].values)]\n",
        "            else:\n",
        "                # Generic fallback\n",
        "                tokens = tokenizer.encode(original_text, truncation=True, max_length=128)\n",
        "                scores = shap_values[i] if len(shap_values.shape) == 2 else shap_values[i, :, pred_class]\n",
        "                token_scores = list(zip(tokens, scores))\n",
        "\n",
        "            sorted_tokens = sorted(token_scores, key=lambda x: abs(x[1]) if isinstance(x[1], (int, float)) else 0, reverse=True)\n",
        "\n",
        "            # Display contributing tokens and their scores\n",
        "            for token_id, score in sorted_tokens[:10]:\n",
        "                if token_id != 0:  # Skip padding token\n",
        "                    token = tokenizer.decode([token_id])\n",
        "                    if isinstance(score, (int, float)):\n",
        "                        print(f\"  {token}: {score:.4f}\")\n",
        "                    else:\n",
        "                        print(f\"  {token}: {score}\")\n",
        "        except Exception as e:\n",
        "            print(f\"Error analyzing token contributions: {e}\")\n",
        "            print(\"Unable to show token contributions\")\n",
        "\n",
        "        print(\"\\n\")\n",
        "else:\n",
        "    print(\"No anomalies found in the sample for SHAP analysis.\")"
      ]
    },
    {
      "cell_type": "markdown",
      "metadata": {
        "id": "7D5OwaFfPRLo"
      },
      "source": [
        "## 19. Final Summary and Save Model"
      ]
    },
    {
      "cell_type": "code",
      "execution_count": null,
      "metadata": {
        "colab": {
          "base_uri": "https://localhost:8080/",
          "height": 1000
        },
        "id": "yusEWl5GPRLp",
        "outputId": "8150c425-84be-48d3-b364-f2f6f57e9624"
      },
      "outputs": [
        {
          "output_type": "stream",
          "name": "stdout",
          "text": [
            "\n",
            "Final Model Summary:\n",
            "Number of classes: 13\n",
            "Test Accuracy: 0.9750\n",
            "Test F1 Score: 0.9700\n",
            "\n",
            "Model saved to './log_anomaly_model'\n"
          ]
        },
        {
          "output_type": "display_data",
          "data": {
            "text/plain": [
              "<IPython.core.display.HTML object>"
            ],
            "text/html": []
          },
          "metadata": {}
        },
        {
          "output_type": "display_data",
          "data": {
            "text/plain": [
              "<IPython.core.display.HTML object>"
            ],
            "text/html": [
              "<br>    <style><br>        .wandb-row {<br>            display: flex;<br>            flex-direction: row;<br>            flex-wrap: wrap;<br>            justify-content: flex-start;<br>            width: 100%;<br>        }<br>        .wandb-col {<br>            display: flex;<br>            flex-direction: column;<br>            flex-basis: 100%;<br>            flex: 1;<br>            padding: 10px;<br>        }<br>    </style><br><div class=\"wandb-row\"><div class=\"wandb-col\"><h3>Run history:</h3><br/><table class=\"wandb\"><tr><td>eval/accuracy</td><td>▅▁▅▄▇▇▇█</td></tr><tr><td>eval/f1</td><td>▅▁▅▅▇▇▇█</td></tr><tr><td>eval/loss</td><td>▇█▆▄▂▂▁▂</td></tr><tr><td>eval/precision</td><td>▅▁▅▅▇▇▇█</td></tr><tr><td>eval/recall</td><td>▅▁▅▄▇▇▇█</td></tr><tr><td>eval/runtime</td><td>█▄▃▇▄▄▁▇</td></tr><tr><td>eval/samples_per_second</td><td>▁▅▅▂▄▅█▂</td></tr><tr><td>eval/steps_per_second</td><td>▁▅▅▂▄▅█▂</td></tr><tr><td>final_accuracy</td><td>▁</td></tr><tr><td>final_f1</td><td>▁</td></tr><tr><td>final_precision</td><td>▁</td></tr><tr><td>final_recall</td><td>▁</td></tr><tr><td>test/accuracy</td><td>▁</td></tr><tr><td>test/f1</td><td>▁</td></tr><tr><td>test/loss</td><td>▁</td></tr><tr><td>test/precision</td><td>▁</td></tr><tr><td>test/recall</td><td>▁</td></tr><tr><td>test/runtime</td><td>▁</td></tr><tr><td>test/samples_per_second</td><td>▁</td></tr><tr><td>test/steps_per_second</td><td>▁</td></tr><tr><td>train/epoch</td><td>▁▁▂▁▁▂▃▃▄▄▄▅▅▆▇▇████</td></tr><tr><td>train/global_step</td><td>▁▁▂▁▁▂▃▃▄▄▅▅▅▆▇▇██████</td></tr><tr><td>train/grad_norm</td><td>▃▄▃▅▅▆▁▅█▄▁</td></tr><tr><td>train/learning_rate</td><td>█▇█▇▆▅▅▄▃▂▁</td></tr><tr><td>train/loss</td><td>▇▅█▅▅▄▁▄▁▂▁</td></tr></table><br/></div><div class=\"wandb-col\"><h3>Run summary:</h3><br/><table class=\"wandb\"><tr><td>eval/accuracy</td><td>0.985</td></tr><tr><td>eval/f1</td><td>0.97803</td></tr><tr><td>eval/loss</td><td>1.1739</td></tr><tr><td>eval/precision</td><td>0.97177</td></tr><tr><td>eval/recall</td><td>0.985</td></tr><tr><td>eval/runtime</td><td>0.382</td></tr><tr><td>eval/samples_per_second</td><td>1047.092</td></tr><tr><td>eval/steps_per_second</td><td>34.03</td></tr><tr><td>final_accuracy</td><td>0.975</td></tr><tr><td>final_f1</td><td>0.97003</td></tr><tr><td>final_precision</td><td>0.96511</td></tr><tr><td>final_recall</td><td>0.975</td></tr><tr><td>test/accuracy</td><td>0.985</td></tr><tr><td>test/f1</td><td>0.97803</td></tr><tr><td>test/loss</td><td>1.1739</td></tr><tr><td>test/precision</td><td>0.97177</td></tr><tr><td>test/recall</td><td>0.985</td></tr><tr><td>test/runtime</td><td>0.3303</td></tr><tr><td>test/samples_per_second</td><td>1211.03</td></tr><tr><td>test/steps_per_second</td><td>39.358</td></tr><tr><td>total_flos</td><td>238082121962496.0</td></tr><tr><td>train/epoch</td><td>6</td></tr><tr><td>train/global_step</td><td>450</td></tr><tr><td>train/grad_norm</td><td>1.06766</td></tr><tr><td>train/learning_rate</td><td>0.0</td></tr><tr><td>train/loss</td><td>0.8631</td></tr><tr><td>train_loss</td><td>1.33682</td></tr><tr><td>train_runtime</td><td>65.941</td></tr><tr><td>train_samples_per_second</td><td>181.677</td></tr><tr><td>train_steps_per_second</td><td>11.374</td></tr></table><br/></div></div>"
            ]
          },
          "metadata": {}
        },
        {
          "output_type": "display_data",
          "data": {
            "text/plain": [
              "<IPython.core.display.HTML object>"
            ],
            "text/html": [
              " View run <strong style=\"color:#cdcd00\">toasty-bee-2</strong> at: <a href='https://wandb.ai/oxcomrade-noakhali-science-and-technology-university/LogLite-Final/runs/8aqvuux0' target=\"_blank\">https://wandb.ai/oxcomrade-noakhali-science-and-technology-university/LogLite-Final/runs/8aqvuux0</a><br> View project at: <a href='https://wandb.ai/oxcomrade-noakhali-science-and-technology-university/LogLite-Final' target=\"_blank\">https://wandb.ai/oxcomrade-noakhali-science-and-technology-university/LogLite-Final</a><br>Synced 5 W&B file(s), 0 media file(s), 0 artifact file(s) and 0 other file(s)"
            ]
          },
          "metadata": {}
        },
        {
          "output_type": "display_data",
          "data": {
            "text/plain": [
              "<IPython.core.display.HTML object>"
            ],
            "text/html": [
              "Find logs at: <code>./wandb/run-20250516_102450-8aqvuux0/logs</code>"
            ]
          },
          "metadata": {}
        }
      ],
      "source": [
        "# Final summary\n",
        "print(\"\\nFinal Model Summary:\")\n",
        "print(f\"Number of classes: {num_classes}\")\n",
        "print(f\"Test Accuracy: {accuracy:.4f}\")\n",
        "print(f\"Test F1 Score: {f1:.4f}\")\n",
        "\n",
        "# Log final metrics to WandB\n",
        "wandb.log({\n",
        "    \"final_accuracy\": accuracy,\n",
        "    \"final_f1\": f1,\n",
        "    \"final_precision\": precision,\n",
        "    \"final_recall\": recall\n",
        "})\n",
        "\n",
        "# Save the model\n",
        "model.save_pretrained('./log_anomaly_model')\n",
        "tokenizer.save_pretrained('./log_anomaly_model')\n",
        "print(\"\\nModel saved to './log_anomaly_model'\")\n",
        "\n",
        "# Finish WandB run\n",
        "wandb.finish()"
      ]
    },
    {
      "cell_type": "code",
      "source": [
        " # Final Model Validation with Sample Logs\n",
        "print(\"\\n## LogLite Model Validation with Sample Logs ##\\n\")\n",
        "\n",
        "# Define some sample logs to test\n",
        "sample_logs = [\n",
        "    \"instruction cache parity error corrected\",  # Normal\n",
        "    \"data TLB error interrupt\",  # KERNDTLB (anomaly)\n",
        "    \"Lustre mount FAILED\",  # KERNMNTF (anomaly)\n",
        "    \"process ended abnormally\",  # Normal\n",
        "    \"I/O nodes per ND: 2, 4\",  # Normal\n",
        "    \"application terminated with error status 1\",  # APPTERM (anomaly)\n",
        "    \"read failed due to storage error\",  # KERNSTOR (anomaly)\n",
        "    \"execution terminated due to signal 9\",  # KERNTERM (anomaly)\n",
        "]\n",
        "\n",
        "# Tokenize sample logs\n",
        "sample_encodings = tokenizer(\n",
        "    sample_logs,\n",
        "    padding='max_length',\n",
        "    truncation=True,\n",
        "    max_length=MAX_LENGTH,\n",
        "    return_tensors='pt'\n",
        ")\n",
        "\n",
        "# Move inputs to the same device as the model\n",
        "sample_encodings = {k: v.to(device) for k, v in sample_encodings.items()}\n",
        "\n",
        "# Get predictions\n",
        "model.eval()\n",
        "with torch.no_grad():\n",
        "    outputs = model(**sample_encodings)\n",
        "\n",
        "    # Handle outputs correctly - check if it's a tuple or a tensor\n",
        "    if isinstance(outputs, tuple):\n",
        "        logits = outputs[0]  # First item is usually the logits\n",
        "    else:\n",
        "        logits = outputs  # The outputs are directly the logits tensor\n",
        "\n",
        "    # For multi-class classification\n",
        "    probabilities = torch.nn.functional.softmax(logits, dim=1)\n",
        "    predictions = torch.argmax(probabilities, dim=1)\n",
        "\n",
        "# Define root cause explanations for different anomaly types\n",
        "root_cause_explanations = {\n",
        "    \"KERNDTLB\": \"Memory addressing issue. The Translation Lookaside Buffer (TLB) is experiencing errors, indicating potential memory management problems or hardware issues with the memory management unit.\",\n",
        "\n",
        "    \"KERNSTOR\": \"Storage subsystem failure. There may be disk I/O errors, corrupt filesystem, or hardware failures in the storage system.\",\n",
        "\n",
        "    \"KERNRTSP\": \"Runtime process issues. The kernel detected issues with runtime scheduling or process management.\",\n",
        "\n",
        "    \"KERNTERM\": \"Kernel process termination. A critical system process was terminated unexpectedly, possibly due to a crash or resource exhaustion.\",\n",
        "\n",
        "    \"APPSEV\": \"Severe application error. The application encountered a critical error that it couldn't recover from.\",\n",
        "\n",
        "    \"KERNMNTF\": \"Mount failure. The system failed to mount a filesystem, indicating potential connectivity, permission, or filesystem corruption issues.\",\n",
        "\n",
        "    \"APPTO\": \"Application timeout. The application failed to respond within the expected time frame, suggesting deadlocks or resource constraints.\",\n",
        "\n",
        "    \"APPRES\": \"Resource exhaustion. The application ran out of necessary resources (memory, file handles, etc.).\",\n",
        "\n",
        "    \"APPREAD\": \"Read operation failed. The application couldn't read required data, potentially due to permissions or data corruption.\",\n",
        "\n",
        "    \"APPOUT\": \"Output error. The application encountered an error while writing output data.\"\n",
        "}\n",
        "\n",
        "# Display results with explanations\n",
        "print(\"Sample Log Analysis:\\n\")\n",
        "for i, log in enumerate(sample_logs):\n",
        "    pred_idx = predictions[i].item()\n",
        "    pred_class = list(label_map.keys())[pred_idx]\n",
        "\n",
        "    # Get top 2 classes and their probabilities for more nuanced analysis\n",
        "    top_probs, top_indices = torch.topk(probabilities[i], 2)\n",
        "    top_classes = [list(label_map.keys())[idx.item()] for idx in top_indices]\n",
        "    top_probs = top_probs.cpu().numpy()\n",
        "\n",
        "    # Determine if it's normal or anomaly\n",
        "    is_normal = pred_class == '-'\n",
        "\n",
        "    print(f\"Log: {log}\")\n",
        "    print(f\"Prediction: {'NORMAL' if is_normal else 'ANOMALY'} ({pred_class}) with {top_probs[0]*100:.2f}% confidence\")\n",
        "\n",
        "    if not is_normal:\n",
        "        print(f\"Top classifications: {top_classes[0]} ({top_probs[0]*100:.2f}%), {top_classes[1]} ({top_probs[1]*100:.2f}%)\")\n",
        "        print(f\"Potential root cause: {root_cause_explanations.get(pred_class, 'Unknown cause')}\")\n",
        "\n",
        "        # Extract key indicators from the log\n",
        "        key_terms = []\n",
        "        for term in [\"error\", \"fail\", \"terminate\", \"abort\", \"corrupt\", \"timeout\", \"interrupt\", \"crash\", \"denied\", \"invalid\"]:\n",
        "            if term.lower() in log.lower():\n",
        "                key_terms.append(term)\n",
        "\n",
        "        if key_terms:\n",
        "            print(f\"Key indicators: {', '.join(key_terms)}\")\n",
        "\n",
        "    # Analyze log content for additional context\n",
        "    log_words = log.lower().split()\n",
        "    component_terms = {\n",
        "        \"memory\": [\"memory\", \"cache\", \"tlb\", \"buffer\", \"heap\", \"allocation\"],\n",
        "        \"storage\": [\"disk\", \"storage\", \"file\", \"i/o\", \"read\", \"write\"],\n",
        "        \"network\": [\"network\", \"connection\", \"socket\", \"communication\"],\n",
        "        \"process\": [\"process\", \"thread\", \"execution\", \"terminated\"],\n",
        "        \"resource\": [\"resource\", \"limit\", \"exhausted\", \"capacity\"]\n",
        "    }\n",
        "\n",
        "    affected_components = []\n",
        "    for component, terms in component_terms.items():\n",
        "        if any(term in log_words for term in terms):\n",
        "            affected_components.append(component)\n",
        "\n",
        "    if affected_components:\n",
        "        print(f\"Affected components: {', '.join(affected_components)}\")\n",
        "\n",
        "    print(\"Recommended action:\", end=\" \")\n",
        "    if is_normal:\n",
        "        print(\"No action needed - log indicates normal operation.\")\n",
        "    else:\n",
        "        if \"memory\" in affected_components:\n",
        "            print(\"Check system memory usage and hardware health. Consider memory diagnostics.\")\n",
        "        elif \"storage\" in affected_components:\n",
        "            print(\"Verify disk health, filesystem integrity, and storage connectivity.\")\n",
        "        elif \"network\" in affected_components:\n",
        "            print(\"Examine network configuration and connectivity.\")\n",
        "        elif \"process\" in affected_components:\n",
        "            print(\"Review application logs for specific errors and monitor system resources.\")\n",
        "        else:\n",
        "            print(\"Investigate system logs for related issues and check component status.\")\n",
        "\n",
        "    print(\"\\n\" + \"-\"*80 + \"\\n\")\n",
        "\n",
        "# Overall system health assessment\n",
        "anomaly_percentage = (len([p for p in predictions if p != 0]) / len(predictions)) * 100\n",
        "print(f\"System Health Assessment: {100-anomaly_percentage:.1f}% healthy\")\n",
        "if anomaly_percentage > 50:\n",
        "    print(\"CRITICAL: Multiple system components showing failures. Immediate investigation required.\")\n",
        "elif anomaly_percentage > 20:\n",
        "    print(\"WARNING: System showing signs of instability. Monitoring and preventive action recommended.\")\n",
        "else:\n",
        "    print(\"STABLE: System operating within normal parameters. Routine monitoring advised.\")"
      ],
      "metadata": {
        "colab": {
          "base_uri": "https://localhost:8080/"
        },
        "id": "OXwFtlUKxQoO",
        "outputId": "1a9e5f2c-1e49-4897-a237-eb5034bc84d0"
      },
      "execution_count": null,
      "outputs": [
        {
          "output_type": "stream",
          "name": "stdout",
          "text": [
            "\n",
            "## LogLite Model Validation with Sample Logs ##\n",
            "\n",
            "Sample Log Analysis:\n",
            "\n",
            "Log: instruction cache parity error corrected\n",
            "Prediction: NORMAL (-) with 92.03% confidence\n",
            "Affected components: memory\n",
            "Recommended action: No action needed - log indicates normal operation.\n",
            "\n",
            "--------------------------------------------------------------------------------\n",
            "\n",
            "Log: data TLB error interrupt\n",
            "Prediction: ANOMALY (KERNDTLB) with 53.90% confidence\n",
            "Top classifications: KERNDTLB (53.90%), KERNSTOR (11.12%)\n",
            "Potential root cause: Memory addressing issue. The Translation Lookaside Buffer (TLB) is experiencing errors, indicating potential memory management problems or hardware issues with the memory management unit.\n",
            "Key indicators: error, interrupt\n",
            "Affected components: memory\n",
            "Recommended action: Check system memory usage and hardware health. Consider memory diagnostics.\n",
            "\n",
            "--------------------------------------------------------------------------------\n",
            "\n",
            "Log: Lustre mount FAILED\n",
            "Prediction: NORMAL (-) with 28.02% confidence\n",
            "Recommended action: No action needed - log indicates normal operation.\n",
            "\n",
            "--------------------------------------------------------------------------------\n",
            "\n",
            "Log: process ended abnormally\n",
            "Prediction: NORMAL (-) with 53.41% confidence\n",
            "Affected components: process\n",
            "Recommended action: No action needed - log indicates normal operation.\n",
            "\n",
            "--------------------------------------------------------------------------------\n",
            "\n",
            "Log: I/O nodes per ND: 2, 4\n",
            "Prediction: NORMAL (-) with 82.71% confidence\n",
            "Affected components: storage\n",
            "Recommended action: No action needed - log indicates normal operation.\n",
            "\n",
            "--------------------------------------------------------------------------------\n",
            "\n",
            "Log: application terminated with error status 1\n",
            "Prediction: NORMAL (-) with 79.97% confidence\n",
            "Affected components: process\n",
            "Recommended action: No action needed - log indicates normal operation.\n",
            "\n",
            "--------------------------------------------------------------------------------\n",
            "\n",
            "Log: read failed due to storage error\n",
            "Prediction: NORMAL (-) with 76.28% confidence\n",
            "Affected components: storage\n",
            "Recommended action: No action needed - log indicates normal operation.\n",
            "\n",
            "--------------------------------------------------------------------------------\n",
            "\n",
            "Log: execution terminated due to signal 9\n",
            "Prediction: NORMAL (-) with 68.60% confidence\n",
            "Affected components: process\n",
            "Recommended action: No action needed - log indicates normal operation.\n",
            "\n",
            "--------------------------------------------------------------------------------\n",
            "\n",
            "System Health Assessment: 87.5% healthy\n",
            "STABLE: System operating within normal parameters. Routine monitoring advised.\n"
          ]
        }
      ]
    },
    {
      "cell_type": "code",
      "source": [
        "   !zip -r model.zip ./log_anomaly_model/"
      ],
      "metadata": {
        "colab": {
          "base_uri": "https://localhost:8080/"
        },
        "id": "n1mg5YNi0MXL",
        "outputId": "86f828ed-2f08-4708-f42e-2168a1525034"
      },
      "execution_count": null,
      "outputs": [
        {
          "output_type": "stream",
          "name": "stdout",
          "text": [
            "  adding: log_anomaly_model/ (stored 0%)\n",
            "  adding: log_anomaly_model/model.safetensors (deflated 8%)\n",
            "  adding: log_anomaly_model/vocab.txt (deflated 53%)\n",
            "  adding: log_anomaly_model/tokenizer_config.json (deflated 75%)\n",
            "  adding: log_anomaly_model/config.json (deflated 56%)\n",
            "  adding: log_anomaly_model/tokenizer.json (deflated 71%)\n",
            "  adding: log_anomaly_model/special_tokens_map.json (deflated 42%)\n"
          ]
        }
      ]
    },
    {
      "cell_type": "code",
      "source": [
        "   from google.colab import drive\n",
        "   drive.mount('/content/drive')\n",
        "   !cp -r ./log_anomaly_model/ /content/drive/MyDrive/"
      ],
      "metadata": {
        "colab": {
          "base_uri": "https://localhost:8080/"
        },
        "id": "biV3qQbi0jPh",
        "outputId": "b7918a6f-abc8-45d8-9413-c1c89dd2177c"
      },
      "execution_count": null,
      "outputs": [
        {
          "output_type": "stream",
          "name": "stdout",
          "text": [
            "Mounted at /content/drive\n"
          ]
        }
      ]
    }
  ],
  "metadata": {
    "colab": {
      "provenance": [],
      "gpuType": "T4"
    },
    "kernelspec": {
      "display_name": "Python 3",
      "name": "python3"
    },
    "language_info": {
      "codemirror_mode": {
        "name": "ipython",
        "version": 3
      },
      "file_extension": ".py",
      "mimetype": "text/x-python",
      "name": "python",
      "nbconvert_exporter": "python",
      "pygments_lexer": "ipython3",
      "version": "3.8.8"
    },
    "accelerator": "GPU"
  },
  "nbformat": 4,
  "nbformat_minor": 0
}